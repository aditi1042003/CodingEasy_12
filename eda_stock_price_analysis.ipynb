{
  "metadata": {
    "kernelspec": {
      "language": "python",
      "display_name": "Python 3",
      "name": "python3"
    },
    "language_info": {
      "name": "python",
      "version": "3.6.6",
      "mimetype": "text/x-python",
      "codemirror_mode": {
        "name": "ipython",
        "version": 3
      },
      "pygments_lexer": "ipython3",
      "nbconvert_exporter": "python",
      "file_extension": ".py"
    },
    "colab": {
      "name": "eda-stock-price-analysis.ipynb",
      "provenance": [],
      "collapsed_sections": [
        "7xFQrYejPVwU",
        "aidFF-2UPVwc",
        "0RFKyBagPVwg"
      ],
      "include_colab_link": true
    }
  },
  "nbformat_minor": 0,
  "nbformat": 4,
  "cells": [
    {
      "cell_type": "markdown",
      "metadata": {
        "id": "view-in-github",
        "colab_type": "text"
      },
      "source": [
        "<a href=\"https://colab.research.google.com/github/aditi1042003/CodingEasy_12/blob/master/eda_stock_price_analysis.ipynb\" target=\"_parent\"><img src=\"https://colab.research.google.com/assets/colab-badge.svg\" alt=\"Open In Colab\"/></a>"
      ]
    },
    {
      "cell_type": "markdown",
      "source": [
        "# ONLINE RETAIL DATA_SET"
      ],
      "metadata": {
        "id": "j-ion_D3PVvT"
      }
    },
    {
      "cell_type": "markdown",
      "source": [
        "## **Table of Content**\n"
      ],
      "metadata": {
        "id": "Ce3mJMG9PVvY"
      }
    },
    {
      "cell_type": "code",
      "source": [
        "from google.colab import files\n",
        "uploaded=files.upload()"
      ],
      "metadata": {
        "id": "6A99eyXRIRxS",
        "colab": {
          "resources": {
            "http://localhost:8080/nbextensions/google.colab/files.js": {
              "data": "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",
              "ok": true,
              "headers": [
                [
                  "content-type",
                  "application/javascript"
                ]
              ],
              "status": 200,
              "status_text": ""
            }
          },
          "base_uri": "https://localhost:8080/",
          "height": 75
        },
        "outputId": "c4a6816d-0e3c-410e-8d26-22e0c882cfcd"
      },
      "execution_count": 1,
      "outputs": [
        {
          "output_type": "display_data",
          "data": {
            "text/plain": [
              "<IPython.core.display.HTML object>"
            ],
            "text/html": [
              "\n",
              "     <input type=\"file\" id=\"files-a4a42dd2-a8a1-47a7-aaf1-b633f18af2ed\" name=\"files[]\" multiple disabled\n",
              "        style=\"border:none\" />\n",
              "     <output id=\"result-a4a42dd2-a8a1-47a7-aaf1-b633f18af2ed\">\n",
              "      Upload widget is only available when the cell has been executed in the\n",
              "      current browser session. Please rerun this cell to enable.\n",
              "      </output>\n",
              "      <script src=\"/nbextensions/google.colab/files.js\"></script> "
            ]
          },
          "metadata": {}
        },
        {
          "output_type": "stream",
          "name": "stdout",
          "text": [
            "Saving Uniqlo(FastRetailing) 2012-2016 Training - stocks2012-2016.csv to Uniqlo(FastRetailing) 2012-2016 Training - stocks2012-2016.csv\n"
          ]
        }
      ]
    },
    {
      "cell_type": "markdown",
      "source": [
        "### **1. Introduction**\n",
        "     1.1 Data Description\n",
        "     1.2 Features Description\n",
        "     1.3 Objective of this project\n",
        "  \n",
        "\n",
        "### **2. Fetching Data**\n",
        "    2.1 Import packages\n",
        "    2.2 Import data\n",
        "\n",
        "### **3. EDA**\n",
        "      **YEARLY DATA SUMARY\n",
        "      3.1 Question-1\n",
        "      3.2 Question-2\n",
        "      3.3 Question-3\n",
        "      3.4 Question-4\n",
        "      3.5 Question-5\n",
        "      3.6 Question-6"
      ],
      "metadata": {
        "id": "ZPMYdHk5PVva"
      }
    },
    {
      "cell_type": "markdown",
      "source": [
        "# 1. Introduction:"
      ],
      "metadata": {
        "id": "zG808cfuPVvc"
      }
    },
    {
      "cell_type": "markdown",
      "source": [
        "uniqlo has a growing market since the year 2016 . the following dataset shows the changes of their stock during this period"
      ],
      "metadata": {
        "id": "urScP1CXPVvd"
      }
    },
    {
      "cell_type": "markdown",
      "source": [
        "## 1.1  Data description"
      ],
      "metadata": {
        "id": "tlTtTp2uPVve"
      }
    },
    {
      "cell_type": "markdown",
      "source": [
        "**it contain 1227 entries.\n",
        "with coloumn names:\n",
        "\n",
        "\n",
        "*   date--date of trading of stock\n",
        "*   open--opening value\n",
        "*   high --highest value for the day\n",
        "*   low--loest value for the day\n",
        "*   close--closing value of the stock\n",
        "*   volume--volume traded\n",
        "*   stock trading--stock **\n",
        "\n",
        "\n",
        "\n",
        "\n",
        "\n",
        "\n",
        "\n",
        "\n",
        "\n",
        "\n",
        "\n"
      ],
      "metadata": {
        "id": "ihNtnGQoPVvg"
      }
    },
    {
      "cell_type": "markdown",
      "source": [
        "## 1.3 Objective of this project"
      ],
      "metadata": {
        "id": "QfM0UUcPPVvj"
      }
    },
    {
      "cell_type": "markdown",
      "source": [
        "To perform EDA on the given Data Set"
      ],
      "metadata": {
        "id": "lS1de25IPVvl"
      }
    },
    {
      "cell_type": "markdown",
      "source": [
        "# 2. Fetching Data:"
      ],
      "metadata": {
        "id": "0kG2kfZLPVvm"
      }
    },
    {
      "cell_type": "markdown",
      "source": [
        "## 2.1 Import packages"
      ],
      "metadata": {
        "id": "76uVJG4ePVvm"
      }
    },
    {
      "cell_type": "code",
      "source": [
        "import numpy as np \n",
        "import pandas as pd \n",
        "import seaborn as sns\n",
        "import matplotlib.pyplot as plt\n",
        "%matplotlib inline\n",
        "import warnings\n",
        "warnings.filterwarnings(\"ignore\")\n",
        "from scipy.stats import ttest_ind, ttest_rel\n",
        "from scipy import stats"
      ],
      "metadata": {
        "_uuid": "8f2839f25d086af736a60e9eeb907d3b93b6e0e5",
        "_cell_guid": "b1076dfc-b9ad-4769-8c92-a6c4dae69d19",
        "execution": {
          "iopub.status.busy": "2022-07-02T19:22:18.046466Z",
          "iopub.execute_input": "2022-07-02T19:22:18.046854Z",
          "iopub.status.idle": "2022-07-02T19:22:18.053078Z",
          "shell.execute_reply.started": "2022-07-02T19:22:18.046792Z",
          "shell.execute_reply": "2022-07-02T19:22:18.052234Z"
        },
        "trusted": true,
        "id": "eVAxyEMMPVvo"
      },
      "execution_count": 2,
      "outputs": []
    },
    {
      "cell_type": "markdown",
      "source": [
        "## 2.2 Import data"
      ],
      "metadata": {
        "id": "KRBFG_ryPVvr"
      }
    },
    {
      "cell_type": "code",
      "source": [
        "#data = pd.read_csv(\"uniqlo-fastretailing-stock-price-prediction/Uniqlo(FastRetailing) 2012-2016 Training - stocks2012-2016.csv\")\n",
        "data=pd.read_csv(\"Uniqlo(FastRetailing) 2012-2016 Training - stocks2012-2016.csv\")\n",
        "data.head(10)"
      ],
      "metadata": {
        "_cell_guid": "79c7e3d0-c299-4dcb-8224-4455121ee9b0",
        "_uuid": "d629ff2d2480ee46fbb7e2d37f6b5fab8052498a",
        "execution": {
          "iopub.status.busy": "2022-07-02T16:16:36.855745Z",
          "iopub.execute_input": "2022-07-02T16:16:36.856381Z",
          "iopub.status.idle": "2022-07-02T16:16:36.889102Z",
          "shell.execute_reply.started": "2022-07-02T16:16:36.856326Z",
          "shell.execute_reply": "2022-07-02T16:16:36.888452Z"
        },
        "trusted": true,
        "colab": {
          "base_uri": "https://localhost:8080/",
          "height": 363
        },
        "id": "AkdWrWhwPVvs",
        "outputId": "e5ae3f11-d251-4df0-bd03-f27f04f3f2bd"
      },
      "execution_count": 7,
      "outputs": [
        {
          "output_type": "execute_result",
          "data": {
            "text/plain": [
              "         Date   Open   High    Low  Close  Volume  Stock Trading\n",
              "0  2016-12-30  42120  42330  41700  41830  610000    25628028000\n",
              "1  2016-12-29  43000  43220  42540  42660  448400    19188227000\n",
              "2  2016-12-28  43940  43970  43270  43270  339900    14780670000\n",
              "3  2016-12-27  43140  43700  43140  43620  400100    17427993000\n",
              "4  2016-12-26  43310  43660  43090  43340  358200    15547803000\n",
              "5  2016-12-22  43660  43840  43190  43480  381600    16586491000\n",
              "6  2016-12-21  43900  44370  43610  44000  658900    28994316000\n",
              "7  2016-12-20  42910  43630  42860  43620  499400    21606102000\n",
              "8  2016-12-19  42790  43150  42740  43130  358700    15428531000\n",
              "9  2016-12-16  43350  43550  42810  43130  542000    23380606000"
            ],
            "text/html": [
              "\n",
              "  <div id=\"df-ff5fb924-1d35-42ca-be0d-c0ac8926c7f5\">\n",
              "    <div class=\"colab-df-container\">\n",
              "      <div>\n",
              "<style scoped>\n",
              "    .dataframe tbody tr th:only-of-type {\n",
              "        vertical-align: middle;\n",
              "    }\n",
              "\n",
              "    .dataframe tbody tr th {\n",
              "        vertical-align: top;\n",
              "    }\n",
              "\n",
              "    .dataframe thead th {\n",
              "        text-align: right;\n",
              "    }\n",
              "</style>\n",
              "<table border=\"1\" class=\"dataframe\">\n",
              "  <thead>\n",
              "    <tr style=\"text-align: right;\">\n",
              "      <th></th>\n",
              "      <th>Date</th>\n",
              "      <th>Open</th>\n",
              "      <th>High</th>\n",
              "      <th>Low</th>\n",
              "      <th>Close</th>\n",
              "      <th>Volume</th>\n",
              "      <th>Stock Trading</th>\n",
              "    </tr>\n",
              "  </thead>\n",
              "  <tbody>\n",
              "    <tr>\n",
              "      <th>0</th>\n",
              "      <td>2016-12-30</td>\n",
              "      <td>42120</td>\n",
              "      <td>42330</td>\n",
              "      <td>41700</td>\n",
              "      <td>41830</td>\n",
              "      <td>610000</td>\n",
              "      <td>25628028000</td>\n",
              "    </tr>\n",
              "    <tr>\n",
              "      <th>1</th>\n",
              "      <td>2016-12-29</td>\n",
              "      <td>43000</td>\n",
              "      <td>43220</td>\n",
              "      <td>42540</td>\n",
              "      <td>42660</td>\n",
              "      <td>448400</td>\n",
              "      <td>19188227000</td>\n",
              "    </tr>\n",
              "    <tr>\n",
              "      <th>2</th>\n",
              "      <td>2016-12-28</td>\n",
              "      <td>43940</td>\n",
              "      <td>43970</td>\n",
              "      <td>43270</td>\n",
              "      <td>43270</td>\n",
              "      <td>339900</td>\n",
              "      <td>14780670000</td>\n",
              "    </tr>\n",
              "    <tr>\n",
              "      <th>3</th>\n",
              "      <td>2016-12-27</td>\n",
              "      <td>43140</td>\n",
              "      <td>43700</td>\n",
              "      <td>43140</td>\n",
              "      <td>43620</td>\n",
              "      <td>400100</td>\n",
              "      <td>17427993000</td>\n",
              "    </tr>\n",
              "    <tr>\n",
              "      <th>4</th>\n",
              "      <td>2016-12-26</td>\n",
              "      <td>43310</td>\n",
              "      <td>43660</td>\n",
              "      <td>43090</td>\n",
              "      <td>43340</td>\n",
              "      <td>358200</td>\n",
              "      <td>15547803000</td>\n",
              "    </tr>\n",
              "    <tr>\n",
              "      <th>5</th>\n",
              "      <td>2016-12-22</td>\n",
              "      <td>43660</td>\n",
              "      <td>43840</td>\n",
              "      <td>43190</td>\n",
              "      <td>43480</td>\n",
              "      <td>381600</td>\n",
              "      <td>16586491000</td>\n",
              "    </tr>\n",
              "    <tr>\n",
              "      <th>6</th>\n",
              "      <td>2016-12-21</td>\n",
              "      <td>43900</td>\n",
              "      <td>44370</td>\n",
              "      <td>43610</td>\n",
              "      <td>44000</td>\n",
              "      <td>658900</td>\n",
              "      <td>28994316000</td>\n",
              "    </tr>\n",
              "    <tr>\n",
              "      <th>7</th>\n",
              "      <td>2016-12-20</td>\n",
              "      <td>42910</td>\n",
              "      <td>43630</td>\n",
              "      <td>42860</td>\n",
              "      <td>43620</td>\n",
              "      <td>499400</td>\n",
              "      <td>21606102000</td>\n",
              "    </tr>\n",
              "    <tr>\n",
              "      <th>8</th>\n",
              "      <td>2016-12-19</td>\n",
              "      <td>42790</td>\n",
              "      <td>43150</td>\n",
              "      <td>42740</td>\n",
              "      <td>43130</td>\n",
              "      <td>358700</td>\n",
              "      <td>15428531000</td>\n",
              "    </tr>\n",
              "    <tr>\n",
              "      <th>9</th>\n",
              "      <td>2016-12-16</td>\n",
              "      <td>43350</td>\n",
              "      <td>43550</td>\n",
              "      <td>42810</td>\n",
              "      <td>43130</td>\n",
              "      <td>542000</td>\n",
              "      <td>23380606000</td>\n",
              "    </tr>\n",
              "  </tbody>\n",
              "</table>\n",
              "</div>\n",
              "      <button class=\"colab-df-convert\" onclick=\"convertToInteractive('df-ff5fb924-1d35-42ca-be0d-c0ac8926c7f5')\"\n",
              "              title=\"Convert this dataframe to an interactive table.\"\n",
              "              style=\"display:none;\">\n",
              "        \n",
              "  <svg xmlns=\"http://www.w3.org/2000/svg\" height=\"24px\"viewBox=\"0 0 24 24\"\n",
              "       width=\"24px\">\n",
              "    <path d=\"M0 0h24v24H0V0z\" fill=\"none\"/>\n",
              "    <path d=\"M18.56 5.44l.94 2.06.94-2.06 2.06-.94-2.06-.94-.94-2.06-.94 2.06-2.06.94zm-11 1L8.5 8.5l.94-2.06 2.06-.94-2.06-.94L8.5 2.5l-.94 2.06-2.06.94zm10 10l.94 2.06.94-2.06 2.06-.94-2.06-.94-.94-2.06-.94 2.06-2.06.94z\"/><path d=\"M17.41 7.96l-1.37-1.37c-.4-.4-.92-.59-1.43-.59-.52 0-1.04.2-1.43.59L10.3 9.45l-7.72 7.72c-.78.78-.78 2.05 0 2.83L4 21.41c.39.39.9.59 1.41.59.51 0 1.02-.2 1.41-.59l7.78-7.78 2.81-2.81c.8-.78.8-2.07 0-2.86zM5.41 20L4 18.59l7.72-7.72 1.47 1.35L5.41 20z\"/>\n",
              "  </svg>\n",
              "      </button>\n",
              "      \n",
              "  <style>\n",
              "    .colab-df-container {\n",
              "      display:flex;\n",
              "      flex-wrap:wrap;\n",
              "      gap: 12px;\n",
              "    }\n",
              "\n",
              "    .colab-df-convert {\n",
              "      background-color: #E8F0FE;\n",
              "      border: none;\n",
              "      border-radius: 50%;\n",
              "      cursor: pointer;\n",
              "      display: none;\n",
              "      fill: #1967D2;\n",
              "      height: 32px;\n",
              "      padding: 0 0 0 0;\n",
              "      width: 32px;\n",
              "    }\n",
              "\n",
              "    .colab-df-convert:hover {\n",
              "      background-color: #E2EBFA;\n",
              "      box-shadow: 0px 1px 2px rgba(60, 64, 67, 0.3), 0px 1px 3px 1px rgba(60, 64, 67, 0.15);\n",
              "      fill: #174EA6;\n",
              "    }\n",
              "\n",
              "    [theme=dark] .colab-df-convert {\n",
              "      background-color: #3B4455;\n",
              "      fill: #D2E3FC;\n",
              "    }\n",
              "\n",
              "    [theme=dark] .colab-df-convert:hover {\n",
              "      background-color: #434B5C;\n",
              "      box-shadow: 0px 1px 3px 1px rgba(0, 0, 0, 0.15);\n",
              "      filter: drop-shadow(0px 1px 2px rgba(0, 0, 0, 0.3));\n",
              "      fill: #FFFFFF;\n",
              "    }\n",
              "  </style>\n",
              "\n",
              "      <script>\n",
              "        const buttonEl =\n",
              "          document.querySelector('#df-ff5fb924-1d35-42ca-be0d-c0ac8926c7f5 button.colab-df-convert');\n",
              "        buttonEl.style.display =\n",
              "          google.colab.kernel.accessAllowed ? 'block' : 'none';\n",
              "\n",
              "        async function convertToInteractive(key) {\n",
              "          const element = document.querySelector('#df-ff5fb924-1d35-42ca-be0d-c0ac8926c7f5');\n",
              "          const dataTable =\n",
              "            await google.colab.kernel.invokeFunction('convertToInteractive',\n",
              "                                                     [key], {});\n",
              "          if (!dataTable) return;\n",
              "\n",
              "          const docLinkHtml = 'Like what you see? Visit the ' +\n",
              "            '<a target=\"_blank\" href=https://colab.research.google.com/notebooks/data_table.ipynb>data table notebook</a>'\n",
              "            + ' to learn more about interactive tables.';\n",
              "          element.innerHTML = '';\n",
              "          dataTable['output_type'] = 'display_data';\n",
              "          await google.colab.output.renderOutput(dataTable, element);\n",
              "          const docLink = document.createElement('div');\n",
              "          docLink.innerHTML = docLinkHtml;\n",
              "          element.appendChild(docLink);\n",
              "        }\n",
              "      </script>\n",
              "    </div>\n",
              "  </div>\n",
              "  "
            ]
          },
          "metadata": {},
          "execution_count": 7
        }
      ]
    },
    {
      "cell_type": "code",
      "source": [
        "data.shape"
      ],
      "metadata": {
        "execution": {
          "iopub.status.busy": "2022-07-02T16:21:29.792162Z",
          "iopub.execute_input": "2022-07-02T16:21:29.792474Z",
          "iopub.status.idle": "2022-07-02T16:21:29.799311Z",
          "shell.execute_reply.started": "2022-07-02T16:21:29.792435Z",
          "shell.execute_reply": "2022-07-02T16:21:29.797976Z"
        },
        "trusted": true,
        "id": "dheMj7muPVvu",
        "colab": {
          "base_uri": "https://localhost:8080/"
        },
        "outputId": "a7fbcf16-c836-4e9b-c654-f3ad053bea6f"
      },
      "execution_count": 8,
      "outputs": [
        {
          "output_type": "execute_result",
          "data": {
            "text/plain": [
              "(1226, 7)"
            ]
          },
          "metadata": {},
          "execution_count": 8
        }
      ]
    },
    {
      "cell_type": "markdown",
      "source": [
        "## EDA ON DATA"
      ],
      "metadata": {
        "id": "ORTQ6BUaPVvw"
      }
    },
    {
      "cell_type": "code",
      "source": [
        "data_num = data.drop([\"Date\",\"Stock Trading\"], axis=1)\n",
        "data_num.describe()\n",
        "#overviwe of data"
      ],
      "metadata": {
        "execution": {
          "iopub.status.busy": "2022-07-02T16:21:47.730781Z",
          "iopub.execute_input": "2022-07-02T16:21:47.731439Z",
          "iopub.status.idle": "2022-07-02T16:21:47.770597Z",
          "shell.execute_reply.started": "2022-07-02T16:21:47.731384Z",
          "shell.execute_reply": "2022-07-02T16:21:47.769487Z"
        },
        "trusted": true,
        "id": "QLVFCjv8PVvx",
        "colab": {
          "base_uri": "https://localhost:8080/",
          "height": 300
        },
        "outputId": "bd08448c-3aea-435e-8da6-4354c581cf78"
      },
      "execution_count": 9,
      "outputs": [
        {
          "output_type": "execute_result",
          "data": {
            "text/plain": [
              "               Open          High           Low         Close        Volume\n",
              "count   1226.000000   1226.000000   1226.000000   1226.000000  1.226000e+03\n",
              "mean   33754.416803  34178.784666  33347.903752  33760.583197  7.275556e+05\n",
              "std    10813.440409  10936.326802  10695.664102  10815.661389  4.137178e+05\n",
              "min    13720.000000  13840.000000  13600.000000  13720.000000  1.391000e+05\n",
              "25%    27788.750000  28091.250000  27401.250000  27675.000000  4.873000e+05\n",
              "50%    34445.000000  34835.000000  33925.000000  34412.500000  6.260000e+05\n",
              "75%    41412.500000  41900.000000  40810.000000  41365.000000  8.267000e+05\n",
              "max    61550.000000  61970.000000  60740.000000  61930.000000  4.937300e+06"
            ],
            "text/html": [
              "\n",
              "  <div id=\"df-6561005a-1509-491d-94b8-5ca939209087\">\n",
              "    <div class=\"colab-df-container\">\n",
              "      <div>\n",
              "<style scoped>\n",
              "    .dataframe tbody tr th:only-of-type {\n",
              "        vertical-align: middle;\n",
              "    }\n",
              "\n",
              "    .dataframe tbody tr th {\n",
              "        vertical-align: top;\n",
              "    }\n",
              "\n",
              "    .dataframe thead th {\n",
              "        text-align: right;\n",
              "    }\n",
              "</style>\n",
              "<table border=\"1\" class=\"dataframe\">\n",
              "  <thead>\n",
              "    <tr style=\"text-align: right;\">\n",
              "      <th></th>\n",
              "      <th>Open</th>\n",
              "      <th>High</th>\n",
              "      <th>Low</th>\n",
              "      <th>Close</th>\n",
              "      <th>Volume</th>\n",
              "    </tr>\n",
              "  </thead>\n",
              "  <tbody>\n",
              "    <tr>\n",
              "      <th>count</th>\n",
              "      <td>1226.000000</td>\n",
              "      <td>1226.000000</td>\n",
              "      <td>1226.000000</td>\n",
              "      <td>1226.000000</td>\n",
              "      <td>1.226000e+03</td>\n",
              "    </tr>\n",
              "    <tr>\n",
              "      <th>mean</th>\n",
              "      <td>33754.416803</td>\n",
              "      <td>34178.784666</td>\n",
              "      <td>33347.903752</td>\n",
              "      <td>33760.583197</td>\n",
              "      <td>7.275556e+05</td>\n",
              "    </tr>\n",
              "    <tr>\n",
              "      <th>std</th>\n",
              "      <td>10813.440409</td>\n",
              "      <td>10936.326802</td>\n",
              "      <td>10695.664102</td>\n",
              "      <td>10815.661389</td>\n",
              "      <td>4.137178e+05</td>\n",
              "    </tr>\n",
              "    <tr>\n",
              "      <th>min</th>\n",
              "      <td>13720.000000</td>\n",
              "      <td>13840.000000</td>\n",
              "      <td>13600.000000</td>\n",
              "      <td>13720.000000</td>\n",
              "      <td>1.391000e+05</td>\n",
              "    </tr>\n",
              "    <tr>\n",
              "      <th>25%</th>\n",
              "      <td>27788.750000</td>\n",
              "      <td>28091.250000</td>\n",
              "      <td>27401.250000</td>\n",
              "      <td>27675.000000</td>\n",
              "      <td>4.873000e+05</td>\n",
              "    </tr>\n",
              "    <tr>\n",
              "      <th>50%</th>\n",
              "      <td>34445.000000</td>\n",
              "      <td>34835.000000</td>\n",
              "      <td>33925.000000</td>\n",
              "      <td>34412.500000</td>\n",
              "      <td>6.260000e+05</td>\n",
              "    </tr>\n",
              "    <tr>\n",
              "      <th>75%</th>\n",
              "      <td>41412.500000</td>\n",
              "      <td>41900.000000</td>\n",
              "      <td>40810.000000</td>\n",
              "      <td>41365.000000</td>\n",
              "      <td>8.267000e+05</td>\n",
              "    </tr>\n",
              "    <tr>\n",
              "      <th>max</th>\n",
              "      <td>61550.000000</td>\n",
              "      <td>61970.000000</td>\n",
              "      <td>60740.000000</td>\n",
              "      <td>61930.000000</td>\n",
              "      <td>4.937300e+06</td>\n",
              "    </tr>\n",
              "  </tbody>\n",
              "</table>\n",
              "</div>\n",
              "      <button class=\"colab-df-convert\" onclick=\"convertToInteractive('df-6561005a-1509-491d-94b8-5ca939209087')\"\n",
              "              title=\"Convert this dataframe to an interactive table.\"\n",
              "              style=\"display:none;\">\n",
              "        \n",
              "  <svg xmlns=\"http://www.w3.org/2000/svg\" height=\"24px\"viewBox=\"0 0 24 24\"\n",
              "       width=\"24px\">\n",
              "    <path d=\"M0 0h24v24H0V0z\" fill=\"none\"/>\n",
              "    <path d=\"M18.56 5.44l.94 2.06.94-2.06 2.06-.94-2.06-.94-.94-2.06-.94 2.06-2.06.94zm-11 1L8.5 8.5l.94-2.06 2.06-.94-2.06-.94L8.5 2.5l-.94 2.06-2.06.94zm10 10l.94 2.06.94-2.06 2.06-.94-2.06-.94-.94-2.06-.94 2.06-2.06.94z\"/><path d=\"M17.41 7.96l-1.37-1.37c-.4-.4-.92-.59-1.43-.59-.52 0-1.04.2-1.43.59L10.3 9.45l-7.72 7.72c-.78.78-.78 2.05 0 2.83L4 21.41c.39.39.9.59 1.41.59.51 0 1.02-.2 1.41-.59l7.78-7.78 2.81-2.81c.8-.78.8-2.07 0-2.86zM5.41 20L4 18.59l7.72-7.72 1.47 1.35L5.41 20z\"/>\n",
              "  </svg>\n",
              "      </button>\n",
              "      \n",
              "  <style>\n",
              "    .colab-df-container {\n",
              "      display:flex;\n",
              "      flex-wrap:wrap;\n",
              "      gap: 12px;\n",
              "    }\n",
              "\n",
              "    .colab-df-convert {\n",
              "      background-color: #E8F0FE;\n",
              "      border: none;\n",
              "      border-radius: 50%;\n",
              "      cursor: pointer;\n",
              "      display: none;\n",
              "      fill: #1967D2;\n",
              "      height: 32px;\n",
              "      padding: 0 0 0 0;\n",
              "      width: 32px;\n",
              "    }\n",
              "\n",
              "    .colab-df-convert:hover {\n",
              "      background-color: #E2EBFA;\n",
              "      box-shadow: 0px 1px 2px rgba(60, 64, 67, 0.3), 0px 1px 3px 1px rgba(60, 64, 67, 0.15);\n",
              "      fill: #174EA6;\n",
              "    }\n",
              "\n",
              "    [theme=dark] .colab-df-convert {\n",
              "      background-color: #3B4455;\n",
              "      fill: #D2E3FC;\n",
              "    }\n",
              "\n",
              "    [theme=dark] .colab-df-convert:hover {\n",
              "      background-color: #434B5C;\n",
              "      box-shadow: 0px 1px 3px 1px rgba(0, 0, 0, 0.15);\n",
              "      filter: drop-shadow(0px 1px 2px rgba(0, 0, 0, 0.3));\n",
              "      fill: #FFFFFF;\n",
              "    }\n",
              "  </style>\n",
              "\n",
              "      <script>\n",
              "        const buttonEl =\n",
              "          document.querySelector('#df-6561005a-1509-491d-94b8-5ca939209087 button.colab-df-convert');\n",
              "        buttonEl.style.display =\n",
              "          google.colab.kernel.accessAllowed ? 'block' : 'none';\n",
              "\n",
              "        async function convertToInteractive(key) {\n",
              "          const element = document.querySelector('#df-6561005a-1509-491d-94b8-5ca939209087');\n",
              "          const dataTable =\n",
              "            await google.colab.kernel.invokeFunction('convertToInteractive',\n",
              "                                                     [key], {});\n",
              "          if (!dataTable) return;\n",
              "\n",
              "          const docLinkHtml = 'Like what you see? Visit the ' +\n",
              "            '<a target=\"_blank\" href=https://colab.research.google.com/notebooks/data_table.ipynb>data table notebook</a>'\n",
              "            + ' to learn more about interactive tables.';\n",
              "          element.innerHTML = '';\n",
              "          dataTable['output_type'] = 'display_data';\n",
              "          await google.colab.output.renderOutput(dataTable, element);\n",
              "          const docLink = document.createElement('div');\n",
              "          docLink.innerHTML = docLinkHtml;\n",
              "          element.appendChild(docLink);\n",
              "        }\n",
              "      </script>\n",
              "    </div>\n",
              "  </div>\n",
              "  "
            ]
          },
          "metadata": {},
          "execution_count": 9
        }
      ]
    },
    {
      "cell_type": "markdown",
      "source": [
        "## Yearly data sumary"
      ],
      "metadata": {
        "id": "2d3cEHPXPVvy"
      }
    },
    {
      "cell_type": "code",
      "source": [
        "#checking range of data\n",
        "min(data['Date'])"
      ],
      "metadata": {
        "execution": {
          "iopub.status.busy": "2022-07-02T16:21:57.031782Z",
          "iopub.execute_input": "2022-07-02T16:21:57.032132Z",
          "iopub.status.idle": "2022-07-02T16:21:57.038654Z",
          "shell.execute_reply.started": "2022-07-02T16:21:57.032069Z",
          "shell.execute_reply": "2022-07-02T16:21:57.037772Z"
        },
        "trusted": true,
        "id": "ra7LGMx3PVv0",
        "colab": {
          "base_uri": "https://localhost:8080/",
          "height": 36
        },
        "outputId": "428f45e3-ccb4-4149-93cb-bcbe8e4c76dc"
      },
      "execution_count": 10,
      "outputs": [
        {
          "output_type": "execute_result",
          "data": {
            "text/plain": [
              "'2012-01-04'"
            ],
            "application/vnd.google.colaboratory.intrinsic+json": {
              "type": "string"
            }
          },
          "metadata": {},
          "execution_count": 10
        }
      ]
    },
    {
      "cell_type": "code",
      "source": [
        "max(data['Date'])"
      ],
      "metadata": {
        "execution": {
          "iopub.status.busy": "2022-07-02T16:21:59.950931Z",
          "iopub.execute_input": "2022-07-02T16:21:59.951894Z",
          "iopub.status.idle": "2022-07-02T16:21:59.959101Z",
          "shell.execute_reply.started": "2022-07-02T16:21:59.951810Z",
          "shell.execute_reply": "2022-07-02T16:21:59.958293Z"
        },
        "trusted": true,
        "id": "WmpdRkk-PVv1",
        "colab": {
          "base_uri": "https://localhost:8080/",
          "height": 36
        },
        "outputId": "09f2c4aa-64af-49a9-f788-92db07f1336a"
      },
      "execution_count": 11,
      "outputs": [
        {
          "output_type": "execute_result",
          "data": {
            "text/plain": [
              "'2016-12-30'"
            ],
            "application/vnd.google.colaboratory.intrinsic+json": {
              "type": "string"
            }
          },
          "metadata": {},
          "execution_count": 11
        }
      ]
    },
    {
      "cell_type": "code",
      "source": [
        "data_2012=data.loc[data['Date']<'2013-01-01']\n",
        "data_2012.head()"
      ],
      "metadata": {
        "execution": {
          "iopub.status.busy": "2022-07-02T16:37:37.951200Z",
          "iopub.execute_input": "2022-07-02T16:37:37.951552Z",
          "iopub.status.idle": "2022-07-02T16:37:37.994041Z",
          "shell.execute_reply.started": "2022-07-02T16:37:37.951477Z",
          "shell.execute_reply": "2022-07-02T16:37:37.993204Z"
        },
        "trusted": true,
        "id": "fjTKwTwWPVv2",
        "colab": {
          "base_uri": "https://localhost:8080/",
          "height": 206
        },
        "outputId": "7f65498e-0420-4aea-9926-65e5fa63c796"
      },
      "execution_count": 12,
      "outputs": [
        {
          "output_type": "execute_result",
          "data": {
            "text/plain": [
              "           Date   Open   High    Low  Close  Volume  Stock Trading\n",
              "978  2012-12-28  21480  21970  21450  21840  854200    18569214000\n",
              "979  2012-12-27  21300  21560  21220  21270  749600    16004759000\n",
              "980  2012-12-26  20890  21170  20640  21170  644000    13446134000\n",
              "981  2012-12-25  20350  20770  20290  20770  657300    13530926000\n",
              "982  2012-12-21  20590  20710  20050  20090  958000    19388002000"
            ],
            "text/html": [
              "\n",
              "  <div id=\"df-fd60ddb4-759d-4b05-a488-9af813bbddd0\">\n",
              "    <div class=\"colab-df-container\">\n",
              "      <div>\n",
              "<style scoped>\n",
              "    .dataframe tbody tr th:only-of-type {\n",
              "        vertical-align: middle;\n",
              "    }\n",
              "\n",
              "    .dataframe tbody tr th {\n",
              "        vertical-align: top;\n",
              "    }\n",
              "\n",
              "    .dataframe thead th {\n",
              "        text-align: right;\n",
              "    }\n",
              "</style>\n",
              "<table border=\"1\" class=\"dataframe\">\n",
              "  <thead>\n",
              "    <tr style=\"text-align: right;\">\n",
              "      <th></th>\n",
              "      <th>Date</th>\n",
              "      <th>Open</th>\n",
              "      <th>High</th>\n",
              "      <th>Low</th>\n",
              "      <th>Close</th>\n",
              "      <th>Volume</th>\n",
              "      <th>Stock Trading</th>\n",
              "    </tr>\n",
              "  </thead>\n",
              "  <tbody>\n",
              "    <tr>\n",
              "      <th>978</th>\n",
              "      <td>2012-12-28</td>\n",
              "      <td>21480</td>\n",
              "      <td>21970</td>\n",
              "      <td>21450</td>\n",
              "      <td>21840</td>\n",
              "      <td>854200</td>\n",
              "      <td>18569214000</td>\n",
              "    </tr>\n",
              "    <tr>\n",
              "      <th>979</th>\n",
              "      <td>2012-12-27</td>\n",
              "      <td>21300</td>\n",
              "      <td>21560</td>\n",
              "      <td>21220</td>\n",
              "      <td>21270</td>\n",
              "      <td>749600</td>\n",
              "      <td>16004759000</td>\n",
              "    </tr>\n",
              "    <tr>\n",
              "      <th>980</th>\n",
              "      <td>2012-12-26</td>\n",
              "      <td>20890</td>\n",
              "      <td>21170</td>\n",
              "      <td>20640</td>\n",
              "      <td>21170</td>\n",
              "      <td>644000</td>\n",
              "      <td>13446134000</td>\n",
              "    </tr>\n",
              "    <tr>\n",
              "      <th>981</th>\n",
              "      <td>2012-12-25</td>\n",
              "      <td>20350</td>\n",
              "      <td>20770</td>\n",
              "      <td>20290</td>\n",
              "      <td>20770</td>\n",
              "      <td>657300</td>\n",
              "      <td>13530926000</td>\n",
              "    </tr>\n",
              "    <tr>\n",
              "      <th>982</th>\n",
              "      <td>2012-12-21</td>\n",
              "      <td>20590</td>\n",
              "      <td>20710</td>\n",
              "      <td>20050</td>\n",
              "      <td>20090</td>\n",
              "      <td>958000</td>\n",
              "      <td>19388002000</td>\n",
              "    </tr>\n",
              "  </tbody>\n",
              "</table>\n",
              "</div>\n",
              "      <button class=\"colab-df-convert\" onclick=\"convertToInteractive('df-fd60ddb4-759d-4b05-a488-9af813bbddd0')\"\n",
              "              title=\"Convert this dataframe to an interactive table.\"\n",
              "              style=\"display:none;\">\n",
              "        \n",
              "  <svg xmlns=\"http://www.w3.org/2000/svg\" height=\"24px\"viewBox=\"0 0 24 24\"\n",
              "       width=\"24px\">\n",
              "    <path d=\"M0 0h24v24H0V0z\" fill=\"none\"/>\n",
              "    <path d=\"M18.56 5.44l.94 2.06.94-2.06 2.06-.94-2.06-.94-.94-2.06-.94 2.06-2.06.94zm-11 1L8.5 8.5l.94-2.06 2.06-.94-2.06-.94L8.5 2.5l-.94 2.06-2.06.94zm10 10l.94 2.06.94-2.06 2.06-.94-2.06-.94-.94-2.06-.94 2.06-2.06.94z\"/><path d=\"M17.41 7.96l-1.37-1.37c-.4-.4-.92-.59-1.43-.59-.52 0-1.04.2-1.43.59L10.3 9.45l-7.72 7.72c-.78.78-.78 2.05 0 2.83L4 21.41c.39.39.9.59 1.41.59.51 0 1.02-.2 1.41-.59l7.78-7.78 2.81-2.81c.8-.78.8-2.07 0-2.86zM5.41 20L4 18.59l7.72-7.72 1.47 1.35L5.41 20z\"/>\n",
              "  </svg>\n",
              "      </button>\n",
              "      \n",
              "  <style>\n",
              "    .colab-df-container {\n",
              "      display:flex;\n",
              "      flex-wrap:wrap;\n",
              "      gap: 12px;\n",
              "    }\n",
              "\n",
              "    .colab-df-convert {\n",
              "      background-color: #E8F0FE;\n",
              "      border: none;\n",
              "      border-radius: 50%;\n",
              "      cursor: pointer;\n",
              "      display: none;\n",
              "      fill: #1967D2;\n",
              "      height: 32px;\n",
              "      padding: 0 0 0 0;\n",
              "      width: 32px;\n",
              "    }\n",
              "\n",
              "    .colab-df-convert:hover {\n",
              "      background-color: #E2EBFA;\n",
              "      box-shadow: 0px 1px 2px rgba(60, 64, 67, 0.3), 0px 1px 3px 1px rgba(60, 64, 67, 0.15);\n",
              "      fill: #174EA6;\n",
              "    }\n",
              "\n",
              "    [theme=dark] .colab-df-convert {\n",
              "      background-color: #3B4455;\n",
              "      fill: #D2E3FC;\n",
              "    }\n",
              "\n",
              "    [theme=dark] .colab-df-convert:hover {\n",
              "      background-color: #434B5C;\n",
              "      box-shadow: 0px 1px 3px 1px rgba(0, 0, 0, 0.15);\n",
              "      filter: drop-shadow(0px 1px 2px rgba(0, 0, 0, 0.3));\n",
              "      fill: #FFFFFF;\n",
              "    }\n",
              "  </style>\n",
              "\n",
              "      <script>\n",
              "        const buttonEl =\n",
              "          document.querySelector('#df-fd60ddb4-759d-4b05-a488-9af813bbddd0 button.colab-df-convert');\n",
              "        buttonEl.style.display =\n",
              "          google.colab.kernel.accessAllowed ? 'block' : 'none';\n",
              "\n",
              "        async function convertToInteractive(key) {\n",
              "          const element = document.querySelector('#df-fd60ddb4-759d-4b05-a488-9af813bbddd0');\n",
              "          const dataTable =\n",
              "            await google.colab.kernel.invokeFunction('convertToInteractive',\n",
              "                                                     [key], {});\n",
              "          if (!dataTable) return;\n",
              "\n",
              "          const docLinkHtml = 'Like what you see? Visit the ' +\n",
              "            '<a target=\"_blank\" href=https://colab.research.google.com/notebooks/data_table.ipynb>data table notebook</a>'\n",
              "            + ' to learn more about interactive tables.';\n",
              "          element.innerHTML = '';\n",
              "          dataTable['output_type'] = 'display_data';\n",
              "          await google.colab.output.renderOutput(dataTable, element);\n",
              "          const docLink = document.createElement('div');\n",
              "          docLink.innerHTML = docLinkHtml;\n",
              "          element.appendChild(docLink);\n",
              "        }\n",
              "      </script>\n",
              "    </div>\n",
              "  </div>\n",
              "  "
            ]
          },
          "metadata": {},
          "execution_count": 12
        }
      ]
    },
    {
      "cell_type": "code",
      "source": [
        "data_2012.describe()"
      ],
      "metadata": {
        "execution": {
          "iopub.status.busy": "2022-07-02T16:37:57.831269Z",
          "iopub.execute_input": "2022-07-02T16:37:57.831806Z",
          "iopub.status.idle": "2022-07-02T16:37:57.871726Z",
          "shell.execute_reply.started": "2022-07-02T16:37:57.831739Z",
          "shell.execute_reply": "2022-07-02T16:37:57.870988Z"
        },
        "trusted": true,
        "id": "Osy3GBmxPVv4",
        "colab": {
          "base_uri": "https://localhost:8080/",
          "height": 300
        },
        "outputId": "e3e9e44e-2e5b-4450-b4ff-8b888dea671a"
      },
      "execution_count": 13,
      "outputs": [
        {
          "output_type": "execute_result",
          "data": {
            "text/plain": [
              "               Open          High           Low         Close        Volume  \\\n",
              "count    248.000000    248.000000    248.000000    248.000000  2.480000e+02   \n",
              "mean   17133.064516  17316.290323  16977.540323  17156.854839  6.916984e+05   \n",
              "std     1453.617115   1465.918605   1441.941167   1460.383937  4.631358e+05   \n",
              "min    13720.000000  13840.000000  13600.000000  13720.000000  2.295000e+05   \n",
              "25%    15980.000000  16150.000000  15825.000000  15977.500000  4.782250e+05   \n",
              "50%    17220.000000  17405.000000  17170.000000  17305.000000  5.865000e+05   \n",
              "75%    18062.500000  18220.000000  17915.000000  18060.000000  7.552500e+05   \n",
              "max    21480.000000  21970.000000  21450.000000  21840.000000  3.979800e+06   \n",
              "\n",
              "       Stock Trading  \n",
              "count   2.480000e+02  \n",
              "mean    1.189364e+10  \n",
              "std     8.168960e+09  \n",
              "min     3.966140e+09  \n",
              "25%     7.835300e+09  \n",
              "50%     1.023669e+10  \n",
              "75%     1.290124e+10  \n",
              "max     6.706766e+10  "
            ],
            "text/html": [
              "\n",
              "  <div id=\"df-ce41b587-c337-4d42-9752-af7b9f8b3d29\">\n",
              "    <div class=\"colab-df-container\">\n",
              "      <div>\n",
              "<style scoped>\n",
              "    .dataframe tbody tr th:only-of-type {\n",
              "        vertical-align: middle;\n",
              "    }\n",
              "\n",
              "    .dataframe tbody tr th {\n",
              "        vertical-align: top;\n",
              "    }\n",
              "\n",
              "    .dataframe thead th {\n",
              "        text-align: right;\n",
              "    }\n",
              "</style>\n",
              "<table border=\"1\" class=\"dataframe\">\n",
              "  <thead>\n",
              "    <tr style=\"text-align: right;\">\n",
              "      <th></th>\n",
              "      <th>Open</th>\n",
              "      <th>High</th>\n",
              "      <th>Low</th>\n",
              "      <th>Close</th>\n",
              "      <th>Volume</th>\n",
              "      <th>Stock Trading</th>\n",
              "    </tr>\n",
              "  </thead>\n",
              "  <tbody>\n",
              "    <tr>\n",
              "      <th>count</th>\n",
              "      <td>248.000000</td>\n",
              "      <td>248.000000</td>\n",
              "      <td>248.000000</td>\n",
              "      <td>248.000000</td>\n",
              "      <td>2.480000e+02</td>\n",
              "      <td>2.480000e+02</td>\n",
              "    </tr>\n",
              "    <tr>\n",
              "      <th>mean</th>\n",
              "      <td>17133.064516</td>\n",
              "      <td>17316.290323</td>\n",
              "      <td>16977.540323</td>\n",
              "      <td>17156.854839</td>\n",
              "      <td>6.916984e+05</td>\n",
              "      <td>1.189364e+10</td>\n",
              "    </tr>\n",
              "    <tr>\n",
              "      <th>std</th>\n",
              "      <td>1453.617115</td>\n",
              "      <td>1465.918605</td>\n",
              "      <td>1441.941167</td>\n",
              "      <td>1460.383937</td>\n",
              "      <td>4.631358e+05</td>\n",
              "      <td>8.168960e+09</td>\n",
              "    </tr>\n",
              "    <tr>\n",
              "      <th>min</th>\n",
              "      <td>13720.000000</td>\n",
              "      <td>13840.000000</td>\n",
              "      <td>13600.000000</td>\n",
              "      <td>13720.000000</td>\n",
              "      <td>2.295000e+05</td>\n",
              "      <td>3.966140e+09</td>\n",
              "    </tr>\n",
              "    <tr>\n",
              "      <th>25%</th>\n",
              "      <td>15980.000000</td>\n",
              "      <td>16150.000000</td>\n",
              "      <td>15825.000000</td>\n",
              "      <td>15977.500000</td>\n",
              "      <td>4.782250e+05</td>\n",
              "      <td>7.835300e+09</td>\n",
              "    </tr>\n",
              "    <tr>\n",
              "      <th>50%</th>\n",
              "      <td>17220.000000</td>\n",
              "      <td>17405.000000</td>\n",
              "      <td>17170.000000</td>\n",
              "      <td>17305.000000</td>\n",
              "      <td>5.865000e+05</td>\n",
              "      <td>1.023669e+10</td>\n",
              "    </tr>\n",
              "    <tr>\n",
              "      <th>75%</th>\n",
              "      <td>18062.500000</td>\n",
              "      <td>18220.000000</td>\n",
              "      <td>17915.000000</td>\n",
              "      <td>18060.000000</td>\n",
              "      <td>7.552500e+05</td>\n",
              "      <td>1.290124e+10</td>\n",
              "    </tr>\n",
              "    <tr>\n",
              "      <th>max</th>\n",
              "      <td>21480.000000</td>\n",
              "      <td>21970.000000</td>\n",
              "      <td>21450.000000</td>\n",
              "      <td>21840.000000</td>\n",
              "      <td>3.979800e+06</td>\n",
              "      <td>6.706766e+10</td>\n",
              "    </tr>\n",
              "  </tbody>\n",
              "</table>\n",
              "</div>\n",
              "      <button class=\"colab-df-convert\" onclick=\"convertToInteractive('df-ce41b587-c337-4d42-9752-af7b9f8b3d29')\"\n",
              "              title=\"Convert this dataframe to an interactive table.\"\n",
              "              style=\"display:none;\">\n",
              "        \n",
              "  <svg xmlns=\"http://www.w3.org/2000/svg\" height=\"24px\"viewBox=\"0 0 24 24\"\n",
              "       width=\"24px\">\n",
              "    <path d=\"M0 0h24v24H0V0z\" fill=\"none\"/>\n",
              "    <path d=\"M18.56 5.44l.94 2.06.94-2.06 2.06-.94-2.06-.94-.94-2.06-.94 2.06-2.06.94zm-11 1L8.5 8.5l.94-2.06 2.06-.94-2.06-.94L8.5 2.5l-.94 2.06-2.06.94zm10 10l.94 2.06.94-2.06 2.06-.94-2.06-.94-.94-2.06-.94 2.06-2.06.94z\"/><path d=\"M17.41 7.96l-1.37-1.37c-.4-.4-.92-.59-1.43-.59-.52 0-1.04.2-1.43.59L10.3 9.45l-7.72 7.72c-.78.78-.78 2.05 0 2.83L4 21.41c.39.39.9.59 1.41.59.51 0 1.02-.2 1.41-.59l7.78-7.78 2.81-2.81c.8-.78.8-2.07 0-2.86zM5.41 20L4 18.59l7.72-7.72 1.47 1.35L5.41 20z\"/>\n",
              "  </svg>\n",
              "      </button>\n",
              "      \n",
              "  <style>\n",
              "    .colab-df-container {\n",
              "      display:flex;\n",
              "      flex-wrap:wrap;\n",
              "      gap: 12px;\n",
              "    }\n",
              "\n",
              "    .colab-df-convert {\n",
              "      background-color: #E8F0FE;\n",
              "      border: none;\n",
              "      border-radius: 50%;\n",
              "      cursor: pointer;\n",
              "      display: none;\n",
              "      fill: #1967D2;\n",
              "      height: 32px;\n",
              "      padding: 0 0 0 0;\n",
              "      width: 32px;\n",
              "    }\n",
              "\n",
              "    .colab-df-convert:hover {\n",
              "      background-color: #E2EBFA;\n",
              "      box-shadow: 0px 1px 2px rgba(60, 64, 67, 0.3), 0px 1px 3px 1px rgba(60, 64, 67, 0.15);\n",
              "      fill: #174EA6;\n",
              "    }\n",
              "\n",
              "    [theme=dark] .colab-df-convert {\n",
              "      background-color: #3B4455;\n",
              "      fill: #D2E3FC;\n",
              "    }\n",
              "\n",
              "    [theme=dark] .colab-df-convert:hover {\n",
              "      background-color: #434B5C;\n",
              "      box-shadow: 0px 1px 3px 1px rgba(0, 0, 0, 0.15);\n",
              "      filter: drop-shadow(0px 1px 2px rgba(0, 0, 0, 0.3));\n",
              "      fill: #FFFFFF;\n",
              "    }\n",
              "  </style>\n",
              "\n",
              "      <script>\n",
              "        const buttonEl =\n",
              "          document.querySelector('#df-ce41b587-c337-4d42-9752-af7b9f8b3d29 button.colab-df-convert');\n",
              "        buttonEl.style.display =\n",
              "          google.colab.kernel.accessAllowed ? 'block' : 'none';\n",
              "\n",
              "        async function convertToInteractive(key) {\n",
              "          const element = document.querySelector('#df-ce41b587-c337-4d42-9752-af7b9f8b3d29');\n",
              "          const dataTable =\n",
              "            await google.colab.kernel.invokeFunction('convertToInteractive',\n",
              "                                                     [key], {});\n",
              "          if (!dataTable) return;\n",
              "\n",
              "          const docLinkHtml = 'Like what you see? Visit the ' +\n",
              "            '<a target=\"_blank\" href=https://colab.research.google.com/notebooks/data_table.ipynb>data table notebook</a>'\n",
              "            + ' to learn more about interactive tables.';\n",
              "          element.innerHTML = '';\n",
              "          dataTable['output_type'] = 'display_data';\n",
              "          await google.colab.output.renderOutput(dataTable, element);\n",
              "          const docLink = document.createElement('div');\n",
              "          docLink.innerHTML = docLinkHtml;\n",
              "          element.appendChild(docLink);\n",
              "        }\n",
              "      </script>\n",
              "    </div>\n",
              "  </div>\n",
              "  "
            ]
          },
          "metadata": {},
          "execution_count": 13
        }
      ]
    },
    {
      "cell_type": "code",
      "source": [
        "data_2013=data.loc[(data['Date']>'2012-12-31') &(data['Date']<'2014-01-01' ) ]\n",
        "data_2013.describe()"
      ],
      "metadata": {
        "execution": {
          "iopub.status.busy": "2022-07-02T16:47:11.831889Z",
          "iopub.execute_input": "2022-07-02T16:47:11.832574Z",
          "iopub.status.idle": "2022-07-02T16:47:11.874056Z",
          "shell.execute_reply.started": "2022-07-02T16:47:11.832150Z",
          "shell.execute_reply": "2022-07-02T16:47:11.872770Z"
        },
        "trusted": true,
        "id": "lxWZjdgTPVv5",
        "colab": {
          "base_uri": "https://localhost:8080/",
          "height": 300
        },
        "outputId": "a8893c69-2bfe-4480-ab46-0ac6e30bb3f7"
      },
      "execution_count": 14,
      "outputs": [
        {
          "output_type": "execute_result",
          "data": {
            "text/plain": [
              "               Open          High           Low         Close        Volume  \\\n",
              "count    245.000000    245.000000    245.000000    245.000000  2.450000e+02   \n",
              "mean   32775.959184  33324.040816  32239.469388  32806.489796  8.648665e+05   \n",
              "std     4890.948775   4991.085701   4753.528987   4888.273096  5.036972e+05   \n",
              "min    22350.000000  22530.000000  22030.000000  22200.000000  3.109000e+05   \n",
              "25%    30350.000000  30900.000000  29850.000000  30400.000000  5.881000e+05   \n",
              "50%    33700.000000  34200.000000  33200.000000  33750.000000  7.249000e+05   \n",
              "75%    36350.000000  36900.000000  35600.000000  36300.000000  1.009900e+06   \n",
              "max    44800.000000  45350.000000  43300.000000  44350.000000  4.937300e+06   \n",
              "\n",
              "       Stock Trading  \n",
              "count   2.450000e+02  \n",
              "mean    2.853352e+10  \n",
              "std     1.739257e+10  \n",
              "min     8.790590e+09  \n",
              "25%     1.779746e+10  \n",
              "50%     2.340737e+10  \n",
              "75%     3.238438e+10  \n",
              "max     1.460450e+11  "
            ],
            "text/html": [
              "\n",
              "  <div id=\"df-5be7bd49-d3df-490d-8574-ff884976d3a9\">\n",
              "    <div class=\"colab-df-container\">\n",
              "      <div>\n",
              "<style scoped>\n",
              "    .dataframe tbody tr th:only-of-type {\n",
              "        vertical-align: middle;\n",
              "    }\n",
              "\n",
              "    .dataframe tbody tr th {\n",
              "        vertical-align: top;\n",
              "    }\n",
              "\n",
              "    .dataframe thead th {\n",
              "        text-align: right;\n",
              "    }\n",
              "</style>\n",
              "<table border=\"1\" class=\"dataframe\">\n",
              "  <thead>\n",
              "    <tr style=\"text-align: right;\">\n",
              "      <th></th>\n",
              "      <th>Open</th>\n",
              "      <th>High</th>\n",
              "      <th>Low</th>\n",
              "      <th>Close</th>\n",
              "      <th>Volume</th>\n",
              "      <th>Stock Trading</th>\n",
              "    </tr>\n",
              "  </thead>\n",
              "  <tbody>\n",
              "    <tr>\n",
              "      <th>count</th>\n",
              "      <td>245.000000</td>\n",
              "      <td>245.000000</td>\n",
              "      <td>245.000000</td>\n",
              "      <td>245.000000</td>\n",
              "      <td>2.450000e+02</td>\n",
              "      <td>2.450000e+02</td>\n",
              "    </tr>\n",
              "    <tr>\n",
              "      <th>mean</th>\n",
              "      <td>32775.959184</td>\n",
              "      <td>33324.040816</td>\n",
              "      <td>32239.469388</td>\n",
              "      <td>32806.489796</td>\n",
              "      <td>8.648665e+05</td>\n",
              "      <td>2.853352e+10</td>\n",
              "    </tr>\n",
              "    <tr>\n",
              "      <th>std</th>\n",
              "      <td>4890.948775</td>\n",
              "      <td>4991.085701</td>\n",
              "      <td>4753.528987</td>\n",
              "      <td>4888.273096</td>\n",
              "      <td>5.036972e+05</td>\n",
              "      <td>1.739257e+10</td>\n",
              "    </tr>\n",
              "    <tr>\n",
              "      <th>min</th>\n",
              "      <td>22350.000000</td>\n",
              "      <td>22530.000000</td>\n",
              "      <td>22030.000000</td>\n",
              "      <td>22200.000000</td>\n",
              "      <td>3.109000e+05</td>\n",
              "      <td>8.790590e+09</td>\n",
              "    </tr>\n",
              "    <tr>\n",
              "      <th>25%</th>\n",
              "      <td>30350.000000</td>\n",
              "      <td>30900.000000</td>\n",
              "      <td>29850.000000</td>\n",
              "      <td>30400.000000</td>\n",
              "      <td>5.881000e+05</td>\n",
              "      <td>1.779746e+10</td>\n",
              "    </tr>\n",
              "    <tr>\n",
              "      <th>50%</th>\n",
              "      <td>33700.000000</td>\n",
              "      <td>34200.000000</td>\n",
              "      <td>33200.000000</td>\n",
              "      <td>33750.000000</td>\n",
              "      <td>7.249000e+05</td>\n",
              "      <td>2.340737e+10</td>\n",
              "    </tr>\n",
              "    <tr>\n",
              "      <th>75%</th>\n",
              "      <td>36350.000000</td>\n",
              "      <td>36900.000000</td>\n",
              "      <td>35600.000000</td>\n",
              "      <td>36300.000000</td>\n",
              "      <td>1.009900e+06</td>\n",
              "      <td>3.238438e+10</td>\n",
              "    </tr>\n",
              "    <tr>\n",
              "      <th>max</th>\n",
              "      <td>44800.000000</td>\n",
              "      <td>45350.000000</td>\n",
              "      <td>43300.000000</td>\n",
              "      <td>44350.000000</td>\n",
              "      <td>4.937300e+06</td>\n",
              "      <td>1.460450e+11</td>\n",
              "    </tr>\n",
              "  </tbody>\n",
              "</table>\n",
              "</div>\n",
              "      <button class=\"colab-df-convert\" onclick=\"convertToInteractive('df-5be7bd49-d3df-490d-8574-ff884976d3a9')\"\n",
              "              title=\"Convert this dataframe to an interactive table.\"\n",
              "              style=\"display:none;\">\n",
              "        \n",
              "  <svg xmlns=\"http://www.w3.org/2000/svg\" height=\"24px\"viewBox=\"0 0 24 24\"\n",
              "       width=\"24px\">\n",
              "    <path d=\"M0 0h24v24H0V0z\" fill=\"none\"/>\n",
              "    <path d=\"M18.56 5.44l.94 2.06.94-2.06 2.06-.94-2.06-.94-.94-2.06-.94 2.06-2.06.94zm-11 1L8.5 8.5l.94-2.06 2.06-.94-2.06-.94L8.5 2.5l-.94 2.06-2.06.94zm10 10l.94 2.06.94-2.06 2.06-.94-2.06-.94-.94-2.06-.94 2.06-2.06.94z\"/><path d=\"M17.41 7.96l-1.37-1.37c-.4-.4-.92-.59-1.43-.59-.52 0-1.04.2-1.43.59L10.3 9.45l-7.72 7.72c-.78.78-.78 2.05 0 2.83L4 21.41c.39.39.9.59 1.41.59.51 0 1.02-.2 1.41-.59l7.78-7.78 2.81-2.81c.8-.78.8-2.07 0-2.86zM5.41 20L4 18.59l7.72-7.72 1.47 1.35L5.41 20z\"/>\n",
              "  </svg>\n",
              "      </button>\n",
              "      \n",
              "  <style>\n",
              "    .colab-df-container {\n",
              "      display:flex;\n",
              "      flex-wrap:wrap;\n",
              "      gap: 12px;\n",
              "    }\n",
              "\n",
              "    .colab-df-convert {\n",
              "      background-color: #E8F0FE;\n",
              "      border: none;\n",
              "      border-radius: 50%;\n",
              "      cursor: pointer;\n",
              "      display: none;\n",
              "      fill: #1967D2;\n",
              "      height: 32px;\n",
              "      padding: 0 0 0 0;\n",
              "      width: 32px;\n",
              "    }\n",
              "\n",
              "    .colab-df-convert:hover {\n",
              "      background-color: #E2EBFA;\n",
              "      box-shadow: 0px 1px 2px rgba(60, 64, 67, 0.3), 0px 1px 3px 1px rgba(60, 64, 67, 0.15);\n",
              "      fill: #174EA6;\n",
              "    }\n",
              "\n",
              "    [theme=dark] .colab-df-convert {\n",
              "      background-color: #3B4455;\n",
              "      fill: #D2E3FC;\n",
              "    }\n",
              "\n",
              "    [theme=dark] .colab-df-convert:hover {\n",
              "      background-color: #434B5C;\n",
              "      box-shadow: 0px 1px 3px 1px rgba(0, 0, 0, 0.15);\n",
              "      filter: drop-shadow(0px 1px 2px rgba(0, 0, 0, 0.3));\n",
              "      fill: #FFFFFF;\n",
              "    }\n",
              "  </style>\n",
              "\n",
              "      <script>\n",
              "        const buttonEl =\n",
              "          document.querySelector('#df-5be7bd49-d3df-490d-8574-ff884976d3a9 button.colab-df-convert');\n",
              "        buttonEl.style.display =\n",
              "          google.colab.kernel.accessAllowed ? 'block' : 'none';\n",
              "\n",
              "        async function convertToInteractive(key) {\n",
              "          const element = document.querySelector('#df-5be7bd49-d3df-490d-8574-ff884976d3a9');\n",
              "          const dataTable =\n",
              "            await google.colab.kernel.invokeFunction('convertToInteractive',\n",
              "                                                     [key], {});\n",
              "          if (!dataTable) return;\n",
              "\n",
              "          const docLinkHtml = 'Like what you see? Visit the ' +\n",
              "            '<a target=\"_blank\" href=https://colab.research.google.com/notebooks/data_table.ipynb>data table notebook</a>'\n",
              "            + ' to learn more about interactive tables.';\n",
              "          element.innerHTML = '';\n",
              "          dataTable['output_type'] = 'display_data';\n",
              "          await google.colab.output.renderOutput(dataTable, element);\n",
              "          const docLink = document.createElement('div');\n",
              "          docLink.innerHTML = docLinkHtml;\n",
              "          element.appendChild(docLink);\n",
              "        }\n",
              "      </script>\n",
              "    </div>\n",
              "  </div>\n",
              "  "
            ]
          },
          "metadata": {},
          "execution_count": 14
        }
      ]
    },
    {
      "cell_type": "code",
      "source": [
        "data_2014=data.loc[(data['Date']>'2013-12-31') &(data['Date']<'2015-01-01' ) ]\n",
        "data_2014.describe()"
      ],
      "metadata": {
        "execution": {
          "iopub.status.busy": "2022-07-02T16:48:27.251797Z",
          "iopub.execute_input": "2022-07-02T16:48:27.252143Z",
          "iopub.status.idle": "2022-07-02T16:48:27.295651Z",
          "shell.execute_reply.started": "2022-07-02T16:48:27.252091Z",
          "shell.execute_reply": "2022-07-02T16:48:27.294993Z"
        },
        "trusted": true,
        "id": "w9PRwEapPVv6",
        "colab": {
          "base_uri": "https://localhost:8080/",
          "height": 300
        },
        "outputId": "fc9a9522-9977-4825-ff1b-f716b0d3336a"
      },
      "execution_count": 15,
      "outputs": [
        {
          "output_type": "execute_result",
          "data": {
            "text/plain": [
              "               Open          High           Low         Close        Volume  \\\n",
              "count    244.000000    244.000000    244.000000    244.000000  2.440000e+02   \n",
              "mean   36378.422131  36778.319672  36041.946721  36404.877049  6.675967e+05   \n",
              "std     3665.314603   3739.107286   3587.128481   3683.887365  3.626552e+05   \n",
              "min    31210.000000  31620.000000  30950.000000  30950.000000  1.391000e+05   \n",
              "25%    33410.000000  33768.750000  33147.500000  33408.750000  4.515000e+05   \n",
              "50%    35710.000000  36187.500000  35380.000000  35792.500000  5.728000e+05   \n",
              "75%    38001.250000  38460.000000  37668.750000  38031.250000  7.485750e+05   \n",
              "max    45730.000000  45880.000000  45425.000000  45830.000000  2.688800e+06   \n",
              "\n",
              "       Stock Trading  \n",
              "count   2.440000e+02  \n",
              "mean    2.468751e+10  \n",
              "std     1.446380e+10  \n",
              "min     4.528217e+09  \n",
              "25%     1.579266e+10  \n",
              "50%     2.085217e+10  \n",
              "75%     2.966005e+10  \n",
              "max     9.173848e+10  "
            ],
            "text/html": [
              "\n",
              "  <div id=\"df-3e481c3d-7dff-4c9d-baf9-9e86386bdd6e\">\n",
              "    <div class=\"colab-df-container\">\n",
              "      <div>\n",
              "<style scoped>\n",
              "    .dataframe tbody tr th:only-of-type {\n",
              "        vertical-align: middle;\n",
              "    }\n",
              "\n",
              "    .dataframe tbody tr th {\n",
              "        vertical-align: top;\n",
              "    }\n",
              "\n",
              "    .dataframe thead th {\n",
              "        text-align: right;\n",
              "    }\n",
              "</style>\n",
              "<table border=\"1\" class=\"dataframe\">\n",
              "  <thead>\n",
              "    <tr style=\"text-align: right;\">\n",
              "      <th></th>\n",
              "      <th>Open</th>\n",
              "      <th>High</th>\n",
              "      <th>Low</th>\n",
              "      <th>Close</th>\n",
              "      <th>Volume</th>\n",
              "      <th>Stock Trading</th>\n",
              "    </tr>\n",
              "  </thead>\n",
              "  <tbody>\n",
              "    <tr>\n",
              "      <th>count</th>\n",
              "      <td>244.000000</td>\n",
              "      <td>244.000000</td>\n",
              "      <td>244.000000</td>\n",
              "      <td>244.000000</td>\n",
              "      <td>2.440000e+02</td>\n",
              "      <td>2.440000e+02</td>\n",
              "    </tr>\n",
              "    <tr>\n",
              "      <th>mean</th>\n",
              "      <td>36378.422131</td>\n",
              "      <td>36778.319672</td>\n",
              "      <td>36041.946721</td>\n",
              "      <td>36404.877049</td>\n",
              "      <td>6.675967e+05</td>\n",
              "      <td>2.468751e+10</td>\n",
              "    </tr>\n",
              "    <tr>\n",
              "      <th>std</th>\n",
              "      <td>3665.314603</td>\n",
              "      <td>3739.107286</td>\n",
              "      <td>3587.128481</td>\n",
              "      <td>3683.887365</td>\n",
              "      <td>3.626552e+05</td>\n",
              "      <td>1.446380e+10</td>\n",
              "    </tr>\n",
              "    <tr>\n",
              "      <th>min</th>\n",
              "      <td>31210.000000</td>\n",
              "      <td>31620.000000</td>\n",
              "      <td>30950.000000</td>\n",
              "      <td>30950.000000</td>\n",
              "      <td>1.391000e+05</td>\n",
              "      <td>4.528217e+09</td>\n",
              "    </tr>\n",
              "    <tr>\n",
              "      <th>25%</th>\n",
              "      <td>33410.000000</td>\n",
              "      <td>33768.750000</td>\n",
              "      <td>33147.500000</td>\n",
              "      <td>33408.750000</td>\n",
              "      <td>4.515000e+05</td>\n",
              "      <td>1.579266e+10</td>\n",
              "    </tr>\n",
              "    <tr>\n",
              "      <th>50%</th>\n",
              "      <td>35710.000000</td>\n",
              "      <td>36187.500000</td>\n",
              "      <td>35380.000000</td>\n",
              "      <td>35792.500000</td>\n",
              "      <td>5.728000e+05</td>\n",
              "      <td>2.085217e+10</td>\n",
              "    </tr>\n",
              "    <tr>\n",
              "      <th>75%</th>\n",
              "      <td>38001.250000</td>\n",
              "      <td>38460.000000</td>\n",
              "      <td>37668.750000</td>\n",
              "      <td>38031.250000</td>\n",
              "      <td>7.485750e+05</td>\n",
              "      <td>2.966005e+10</td>\n",
              "    </tr>\n",
              "    <tr>\n",
              "      <th>max</th>\n",
              "      <td>45730.000000</td>\n",
              "      <td>45880.000000</td>\n",
              "      <td>45425.000000</td>\n",
              "      <td>45830.000000</td>\n",
              "      <td>2.688800e+06</td>\n",
              "      <td>9.173848e+10</td>\n",
              "    </tr>\n",
              "  </tbody>\n",
              "</table>\n",
              "</div>\n",
              "      <button class=\"colab-df-convert\" onclick=\"convertToInteractive('df-3e481c3d-7dff-4c9d-baf9-9e86386bdd6e')\"\n",
              "              title=\"Convert this dataframe to an interactive table.\"\n",
              "              style=\"display:none;\">\n",
              "        \n",
              "  <svg xmlns=\"http://www.w3.org/2000/svg\" height=\"24px\"viewBox=\"0 0 24 24\"\n",
              "       width=\"24px\">\n",
              "    <path d=\"M0 0h24v24H0V0z\" fill=\"none\"/>\n",
              "    <path d=\"M18.56 5.44l.94 2.06.94-2.06 2.06-.94-2.06-.94-.94-2.06-.94 2.06-2.06.94zm-11 1L8.5 8.5l.94-2.06 2.06-.94-2.06-.94L8.5 2.5l-.94 2.06-2.06.94zm10 10l.94 2.06.94-2.06 2.06-.94-2.06-.94-.94-2.06-.94 2.06-2.06.94z\"/><path d=\"M17.41 7.96l-1.37-1.37c-.4-.4-.92-.59-1.43-.59-.52 0-1.04.2-1.43.59L10.3 9.45l-7.72 7.72c-.78.78-.78 2.05 0 2.83L4 21.41c.39.39.9.59 1.41.59.51 0 1.02-.2 1.41-.59l7.78-7.78 2.81-2.81c.8-.78.8-2.07 0-2.86zM5.41 20L4 18.59l7.72-7.72 1.47 1.35L5.41 20z\"/>\n",
              "  </svg>\n",
              "      </button>\n",
              "      \n",
              "  <style>\n",
              "    .colab-df-container {\n",
              "      display:flex;\n",
              "      flex-wrap:wrap;\n",
              "      gap: 12px;\n",
              "    }\n",
              "\n",
              "    .colab-df-convert {\n",
              "      background-color: #E8F0FE;\n",
              "      border: none;\n",
              "      border-radius: 50%;\n",
              "      cursor: pointer;\n",
              "      display: none;\n",
              "      fill: #1967D2;\n",
              "      height: 32px;\n",
              "      padding: 0 0 0 0;\n",
              "      width: 32px;\n",
              "    }\n",
              "\n",
              "    .colab-df-convert:hover {\n",
              "      background-color: #E2EBFA;\n",
              "      box-shadow: 0px 1px 2px rgba(60, 64, 67, 0.3), 0px 1px 3px 1px rgba(60, 64, 67, 0.15);\n",
              "      fill: #174EA6;\n",
              "    }\n",
              "\n",
              "    [theme=dark] .colab-df-convert {\n",
              "      background-color: #3B4455;\n",
              "      fill: #D2E3FC;\n",
              "    }\n",
              "\n",
              "    [theme=dark] .colab-df-convert:hover {\n",
              "      background-color: #434B5C;\n",
              "      box-shadow: 0px 1px 3px 1px rgba(0, 0, 0, 0.15);\n",
              "      filter: drop-shadow(0px 1px 2px rgba(0, 0, 0, 0.3));\n",
              "      fill: #FFFFFF;\n",
              "    }\n",
              "  </style>\n",
              "\n",
              "      <script>\n",
              "        const buttonEl =\n",
              "          document.querySelector('#df-3e481c3d-7dff-4c9d-baf9-9e86386bdd6e button.colab-df-convert');\n",
              "        buttonEl.style.display =\n",
              "          google.colab.kernel.accessAllowed ? 'block' : 'none';\n",
              "\n",
              "        async function convertToInteractive(key) {\n",
              "          const element = document.querySelector('#df-3e481c3d-7dff-4c9d-baf9-9e86386bdd6e');\n",
              "          const dataTable =\n",
              "            await google.colab.kernel.invokeFunction('convertToInteractive',\n",
              "                                                     [key], {});\n",
              "          if (!dataTable) return;\n",
              "\n",
              "          const docLinkHtml = 'Like what you see? Visit the ' +\n",
              "            '<a target=\"_blank\" href=https://colab.research.google.com/notebooks/data_table.ipynb>data table notebook</a>'\n",
              "            + ' to learn more about interactive tables.';\n",
              "          element.innerHTML = '';\n",
              "          dataTable['output_type'] = 'display_data';\n",
              "          await google.colab.output.renderOutput(dataTable, element);\n",
              "          const docLink = document.createElement('div');\n",
              "          docLink.innerHTML = docLinkHtml;\n",
              "          element.appendChild(docLink);\n",
              "        }\n",
              "      </script>\n",
              "    </div>\n",
              "  </div>\n",
              "  "
            ]
          },
          "metadata": {},
          "execution_count": 15
        }
      ]
    },
    {
      "cell_type": "code",
      "source": [
        "data_2015=data.loc[(data['Date']>'2014-12-31') &(data['Date']<'2016-01-01' ) ]\n",
        "data_2015.describe()"
      ],
      "metadata": {
        "execution": {
          "iopub.status.busy": "2022-07-02T16:49:33.451820Z",
          "iopub.execute_input": "2022-07-02T16:49:33.452366Z",
          "iopub.status.idle": "2022-07-02T16:49:33.491393Z",
          "shell.execute_reply.started": "2022-07-02T16:49:33.452298Z",
          "shell.execute_reply": "2022-07-02T16:49:33.490771Z"
        },
        "trusted": true,
        "id": "Ct3_Kt0wPVv6",
        "colab": {
          "base_uri": "https://localhost:8080/",
          "height": 300
        },
        "outputId": "ab61176f-d792-455f-d0b9-ff504248da2f"
      },
      "execution_count": 16,
      "outputs": [
        {
          "output_type": "execute_result",
          "data": {
            "text/plain": [
              "               Open          High           Low         Close        Volume  \\\n",
              "count    244.000000    244.000000    244.000000    244.000000  2.440000e+02   \n",
              "mean   48498.872951  49035.348361  47992.930328  48505.819672  6.344734e+05   \n",
              "std     4640.813845   4712.866897   4621.061878   4705.244704  3.130859e+05   \n",
              "min    41550.000000  41900.000000  40610.000000  41370.000000  2.545000e+05   \n",
              "25%    44645.000000  45158.750000  44146.250000  44520.000000  4.656500e+05   \n",
              "50%    47440.000000  47930.000000  47030.000000  47505.000000  5.537500e+05   \n",
              "75%    50902.500000  51392.500000  50520.000000  50885.000000  6.971000e+05   \n",
              "max    61550.000000  61970.000000  60740.000000  61930.000000  2.522700e+06   \n",
              "\n",
              "       Stock Trading  \n",
              "count   2.440000e+02  \n",
              "mean    3.070526e+10  \n",
              "std     1.506766e+10  \n",
              "min     1.308482e+10  \n",
              "25%     2.218232e+10  \n",
              "50%     2.651109e+10  \n",
              "75%     3.373860e+10  \n",
              "max     1.115116e+11  "
            ],
            "text/html": [
              "\n",
              "  <div id=\"df-c4e545d1-b2de-4729-9751-b8a802182a03\">\n",
              "    <div class=\"colab-df-container\">\n",
              "      <div>\n",
              "<style scoped>\n",
              "    .dataframe tbody tr th:only-of-type {\n",
              "        vertical-align: middle;\n",
              "    }\n",
              "\n",
              "    .dataframe tbody tr th {\n",
              "        vertical-align: top;\n",
              "    }\n",
              "\n",
              "    .dataframe thead th {\n",
              "        text-align: right;\n",
              "    }\n",
              "</style>\n",
              "<table border=\"1\" class=\"dataframe\">\n",
              "  <thead>\n",
              "    <tr style=\"text-align: right;\">\n",
              "      <th></th>\n",
              "      <th>Open</th>\n",
              "      <th>High</th>\n",
              "      <th>Low</th>\n",
              "      <th>Close</th>\n",
              "      <th>Volume</th>\n",
              "      <th>Stock Trading</th>\n",
              "    </tr>\n",
              "  </thead>\n",
              "  <tbody>\n",
              "    <tr>\n",
              "      <th>count</th>\n",
              "      <td>244.000000</td>\n",
              "      <td>244.000000</td>\n",
              "      <td>244.000000</td>\n",
              "      <td>244.000000</td>\n",
              "      <td>2.440000e+02</td>\n",
              "      <td>2.440000e+02</td>\n",
              "    </tr>\n",
              "    <tr>\n",
              "      <th>mean</th>\n",
              "      <td>48498.872951</td>\n",
              "      <td>49035.348361</td>\n",
              "      <td>47992.930328</td>\n",
              "      <td>48505.819672</td>\n",
              "      <td>6.344734e+05</td>\n",
              "      <td>3.070526e+10</td>\n",
              "    </tr>\n",
              "    <tr>\n",
              "      <th>std</th>\n",
              "      <td>4640.813845</td>\n",
              "      <td>4712.866897</td>\n",
              "      <td>4621.061878</td>\n",
              "      <td>4705.244704</td>\n",
              "      <td>3.130859e+05</td>\n",
              "      <td>1.506766e+10</td>\n",
              "    </tr>\n",
              "    <tr>\n",
              "      <th>min</th>\n",
              "      <td>41550.000000</td>\n",
              "      <td>41900.000000</td>\n",
              "      <td>40610.000000</td>\n",
              "      <td>41370.000000</td>\n",
              "      <td>2.545000e+05</td>\n",
              "      <td>1.308482e+10</td>\n",
              "    </tr>\n",
              "    <tr>\n",
              "      <th>25%</th>\n",
              "      <td>44645.000000</td>\n",
              "      <td>45158.750000</td>\n",
              "      <td>44146.250000</td>\n",
              "      <td>44520.000000</td>\n",
              "      <td>4.656500e+05</td>\n",
              "      <td>2.218232e+10</td>\n",
              "    </tr>\n",
              "    <tr>\n",
              "      <th>50%</th>\n",
              "      <td>47440.000000</td>\n",
              "      <td>47930.000000</td>\n",
              "      <td>47030.000000</td>\n",
              "      <td>47505.000000</td>\n",
              "      <td>5.537500e+05</td>\n",
              "      <td>2.651109e+10</td>\n",
              "    </tr>\n",
              "    <tr>\n",
              "      <th>75%</th>\n",
              "      <td>50902.500000</td>\n",
              "      <td>51392.500000</td>\n",
              "      <td>50520.000000</td>\n",
              "      <td>50885.000000</td>\n",
              "      <td>6.971000e+05</td>\n",
              "      <td>3.373860e+10</td>\n",
              "    </tr>\n",
              "    <tr>\n",
              "      <th>max</th>\n",
              "      <td>61550.000000</td>\n",
              "      <td>61970.000000</td>\n",
              "      <td>60740.000000</td>\n",
              "      <td>61930.000000</td>\n",
              "      <td>2.522700e+06</td>\n",
              "      <td>1.115116e+11</td>\n",
              "    </tr>\n",
              "  </tbody>\n",
              "</table>\n",
              "</div>\n",
              "      <button class=\"colab-df-convert\" onclick=\"convertToInteractive('df-c4e545d1-b2de-4729-9751-b8a802182a03')\"\n",
              "              title=\"Convert this dataframe to an interactive table.\"\n",
              "              style=\"display:none;\">\n",
              "        \n",
              "  <svg xmlns=\"http://www.w3.org/2000/svg\" height=\"24px\"viewBox=\"0 0 24 24\"\n",
              "       width=\"24px\">\n",
              "    <path d=\"M0 0h24v24H0V0z\" fill=\"none\"/>\n",
              "    <path d=\"M18.56 5.44l.94 2.06.94-2.06 2.06-.94-2.06-.94-.94-2.06-.94 2.06-2.06.94zm-11 1L8.5 8.5l.94-2.06 2.06-.94-2.06-.94L8.5 2.5l-.94 2.06-2.06.94zm10 10l.94 2.06.94-2.06 2.06-.94-2.06-.94-.94-2.06-.94 2.06-2.06.94z\"/><path d=\"M17.41 7.96l-1.37-1.37c-.4-.4-.92-.59-1.43-.59-.52 0-1.04.2-1.43.59L10.3 9.45l-7.72 7.72c-.78.78-.78 2.05 0 2.83L4 21.41c.39.39.9.59 1.41.59.51 0 1.02-.2 1.41-.59l7.78-7.78 2.81-2.81c.8-.78.8-2.07 0-2.86zM5.41 20L4 18.59l7.72-7.72 1.47 1.35L5.41 20z\"/>\n",
              "  </svg>\n",
              "      </button>\n",
              "      \n",
              "  <style>\n",
              "    .colab-df-container {\n",
              "      display:flex;\n",
              "      flex-wrap:wrap;\n",
              "      gap: 12px;\n",
              "    }\n",
              "\n",
              "    .colab-df-convert {\n",
              "      background-color: #E8F0FE;\n",
              "      border: none;\n",
              "      border-radius: 50%;\n",
              "      cursor: pointer;\n",
              "      display: none;\n",
              "      fill: #1967D2;\n",
              "      height: 32px;\n",
              "      padding: 0 0 0 0;\n",
              "      width: 32px;\n",
              "    }\n",
              "\n",
              "    .colab-df-convert:hover {\n",
              "      background-color: #E2EBFA;\n",
              "      box-shadow: 0px 1px 2px rgba(60, 64, 67, 0.3), 0px 1px 3px 1px rgba(60, 64, 67, 0.15);\n",
              "      fill: #174EA6;\n",
              "    }\n",
              "\n",
              "    [theme=dark] .colab-df-convert {\n",
              "      background-color: #3B4455;\n",
              "      fill: #D2E3FC;\n",
              "    }\n",
              "\n",
              "    [theme=dark] .colab-df-convert:hover {\n",
              "      background-color: #434B5C;\n",
              "      box-shadow: 0px 1px 3px 1px rgba(0, 0, 0, 0.15);\n",
              "      filter: drop-shadow(0px 1px 2px rgba(0, 0, 0, 0.3));\n",
              "      fill: #FFFFFF;\n",
              "    }\n",
              "  </style>\n",
              "\n",
              "      <script>\n",
              "        const buttonEl =\n",
              "          document.querySelector('#df-c4e545d1-b2de-4729-9751-b8a802182a03 button.colab-df-convert');\n",
              "        buttonEl.style.display =\n",
              "          google.colab.kernel.accessAllowed ? 'block' : 'none';\n",
              "\n",
              "        async function convertToInteractive(key) {\n",
              "          const element = document.querySelector('#df-c4e545d1-b2de-4729-9751-b8a802182a03');\n",
              "          const dataTable =\n",
              "            await google.colab.kernel.invokeFunction('convertToInteractive',\n",
              "                                                     [key], {});\n",
              "          if (!dataTable) return;\n",
              "\n",
              "          const docLinkHtml = 'Like what you see? Visit the ' +\n",
              "            '<a target=\"_blank\" href=https://colab.research.google.com/notebooks/data_table.ipynb>data table notebook</a>'\n",
              "            + ' to learn more about interactive tables.';\n",
              "          element.innerHTML = '';\n",
              "          dataTable['output_type'] = 'display_data';\n",
              "          await google.colab.output.renderOutput(dataTable, element);\n",
              "          const docLink = document.createElement('div');\n",
              "          docLink.innerHTML = docLinkHtml;\n",
              "          element.appendChild(docLink);\n",
              "        }\n",
              "      </script>\n",
              "    </div>\n",
              "  </div>\n",
              "  "
            ]
          },
          "metadata": {},
          "execution_count": 16
        }
      ]
    },
    {
      "cell_type": "code",
      "source": [
        "data_2016=data.loc[(data['Date']>'2015-12-31') &(data['Date']<'2017-01-01' ) ]\n",
        "data_2016.describe()"
      ],
      "metadata": {
        "execution": {
          "iopub.status.busy": "2022-07-02T16:50:04.831399Z",
          "iopub.execute_input": "2022-07-02T16:50:04.831939Z",
          "iopub.status.idle": "2022-07-02T16:50:04.873014Z",
          "shell.execute_reply.started": "2022-07-02T16:50:04.831891Z",
          "shell.execute_reply": "2022-07-02T16:50:04.871945Z"
        },
        "trusted": true,
        "id": "2ABA9GkIPVv7",
        "colab": {
          "base_uri": "https://localhost:8080/",
          "height": 300
        },
        "outputId": "e575598e-e63a-4f55-a2fb-e4f04a1db5db"
      },
      "execution_count": 17,
      "outputs": [
        {
          "output_type": "execute_result",
          "data": {
            "text/plain": [
              "               Open          High           Low         Close        Volume  \\\n",
              "count    245.000000    245.000000    245.000000    245.000000  2.450000e+02   \n",
              "mean   34260.183673  34717.653061  33758.857143  34203.163265  7.789576e+05   \n",
              "std     4456.339754   4453.292678   4475.281670   4465.803961  3.531643e+05   \n",
              "min    26000.000000  26070.000000  25305.000000  25445.000000  3.399000e+05   \n",
              "25%    30550.000000  31280.000000  30150.000000  30490.000000  5.420000e+05   \n",
              "50%    34500.000000  34900.000000  33900.000000  34490.000000  6.935000e+05   \n",
              "75%    36920.000000  37360.000000  36470.000000  36890.000000  8.977000e+05   \n",
              "max    43950.000000  44370.000000  43610.000000  44000.000000  2.502700e+06   \n",
              "\n",
              "       Stock Trading  \n",
              "count   2.450000e+02  \n",
              "mean    2.640679e+10  \n",
              "std     1.204392e+10  \n",
              "min     1.226023e+10  \n",
              "25%     1.815842e+10  \n",
              "50%     2.305836e+10  \n",
              "75%     3.159018e+10  \n",
              "max     9.334531e+10  "
            ],
            "text/html": [
              "\n",
              "  <div id=\"df-a038a780-a6c1-4202-b611-4f49a508e487\">\n",
              "    <div class=\"colab-df-container\">\n",
              "      <div>\n",
              "<style scoped>\n",
              "    .dataframe tbody tr th:only-of-type {\n",
              "        vertical-align: middle;\n",
              "    }\n",
              "\n",
              "    .dataframe tbody tr th {\n",
              "        vertical-align: top;\n",
              "    }\n",
              "\n",
              "    .dataframe thead th {\n",
              "        text-align: right;\n",
              "    }\n",
              "</style>\n",
              "<table border=\"1\" class=\"dataframe\">\n",
              "  <thead>\n",
              "    <tr style=\"text-align: right;\">\n",
              "      <th></th>\n",
              "      <th>Open</th>\n",
              "      <th>High</th>\n",
              "      <th>Low</th>\n",
              "      <th>Close</th>\n",
              "      <th>Volume</th>\n",
              "      <th>Stock Trading</th>\n",
              "    </tr>\n",
              "  </thead>\n",
              "  <tbody>\n",
              "    <tr>\n",
              "      <th>count</th>\n",
              "      <td>245.000000</td>\n",
              "      <td>245.000000</td>\n",
              "      <td>245.000000</td>\n",
              "      <td>245.000000</td>\n",
              "      <td>2.450000e+02</td>\n",
              "      <td>2.450000e+02</td>\n",
              "    </tr>\n",
              "    <tr>\n",
              "      <th>mean</th>\n",
              "      <td>34260.183673</td>\n",
              "      <td>34717.653061</td>\n",
              "      <td>33758.857143</td>\n",
              "      <td>34203.163265</td>\n",
              "      <td>7.789576e+05</td>\n",
              "      <td>2.640679e+10</td>\n",
              "    </tr>\n",
              "    <tr>\n",
              "      <th>std</th>\n",
              "      <td>4456.339754</td>\n",
              "      <td>4453.292678</td>\n",
              "      <td>4475.281670</td>\n",
              "      <td>4465.803961</td>\n",
              "      <td>3.531643e+05</td>\n",
              "      <td>1.204392e+10</td>\n",
              "    </tr>\n",
              "    <tr>\n",
              "      <th>min</th>\n",
              "      <td>26000.000000</td>\n",
              "      <td>26070.000000</td>\n",
              "      <td>25305.000000</td>\n",
              "      <td>25445.000000</td>\n",
              "      <td>3.399000e+05</td>\n",
              "      <td>1.226023e+10</td>\n",
              "    </tr>\n",
              "    <tr>\n",
              "      <th>25%</th>\n",
              "      <td>30550.000000</td>\n",
              "      <td>31280.000000</td>\n",
              "      <td>30150.000000</td>\n",
              "      <td>30490.000000</td>\n",
              "      <td>5.420000e+05</td>\n",
              "      <td>1.815842e+10</td>\n",
              "    </tr>\n",
              "    <tr>\n",
              "      <th>50%</th>\n",
              "      <td>34500.000000</td>\n",
              "      <td>34900.000000</td>\n",
              "      <td>33900.000000</td>\n",
              "      <td>34490.000000</td>\n",
              "      <td>6.935000e+05</td>\n",
              "      <td>2.305836e+10</td>\n",
              "    </tr>\n",
              "    <tr>\n",
              "      <th>75%</th>\n",
              "      <td>36920.000000</td>\n",
              "      <td>37360.000000</td>\n",
              "      <td>36470.000000</td>\n",
              "      <td>36890.000000</td>\n",
              "      <td>8.977000e+05</td>\n",
              "      <td>3.159018e+10</td>\n",
              "    </tr>\n",
              "    <tr>\n",
              "      <th>max</th>\n",
              "      <td>43950.000000</td>\n",
              "      <td>44370.000000</td>\n",
              "      <td>43610.000000</td>\n",
              "      <td>44000.000000</td>\n",
              "      <td>2.502700e+06</td>\n",
              "      <td>9.334531e+10</td>\n",
              "    </tr>\n",
              "  </tbody>\n",
              "</table>\n",
              "</div>\n",
              "      <button class=\"colab-df-convert\" onclick=\"convertToInteractive('df-a038a780-a6c1-4202-b611-4f49a508e487')\"\n",
              "              title=\"Convert this dataframe to an interactive table.\"\n",
              "              style=\"display:none;\">\n",
              "        \n",
              "  <svg xmlns=\"http://www.w3.org/2000/svg\" height=\"24px\"viewBox=\"0 0 24 24\"\n",
              "       width=\"24px\">\n",
              "    <path d=\"M0 0h24v24H0V0z\" fill=\"none\"/>\n",
              "    <path d=\"M18.56 5.44l.94 2.06.94-2.06 2.06-.94-2.06-.94-.94-2.06-.94 2.06-2.06.94zm-11 1L8.5 8.5l.94-2.06 2.06-.94-2.06-.94L8.5 2.5l-.94 2.06-2.06.94zm10 10l.94 2.06.94-2.06 2.06-.94-2.06-.94-.94-2.06-.94 2.06-2.06.94z\"/><path d=\"M17.41 7.96l-1.37-1.37c-.4-.4-.92-.59-1.43-.59-.52 0-1.04.2-1.43.59L10.3 9.45l-7.72 7.72c-.78.78-.78 2.05 0 2.83L4 21.41c.39.39.9.59 1.41.59.51 0 1.02-.2 1.41-.59l7.78-7.78 2.81-2.81c.8-.78.8-2.07 0-2.86zM5.41 20L4 18.59l7.72-7.72 1.47 1.35L5.41 20z\"/>\n",
              "  </svg>\n",
              "      </button>\n",
              "      \n",
              "  <style>\n",
              "    .colab-df-container {\n",
              "      display:flex;\n",
              "      flex-wrap:wrap;\n",
              "      gap: 12px;\n",
              "    }\n",
              "\n",
              "    .colab-df-convert {\n",
              "      background-color: #E8F0FE;\n",
              "      border: none;\n",
              "      border-radius: 50%;\n",
              "      cursor: pointer;\n",
              "      display: none;\n",
              "      fill: #1967D2;\n",
              "      height: 32px;\n",
              "      padding: 0 0 0 0;\n",
              "      width: 32px;\n",
              "    }\n",
              "\n",
              "    .colab-df-convert:hover {\n",
              "      background-color: #E2EBFA;\n",
              "      box-shadow: 0px 1px 2px rgba(60, 64, 67, 0.3), 0px 1px 3px 1px rgba(60, 64, 67, 0.15);\n",
              "      fill: #174EA6;\n",
              "    }\n",
              "\n",
              "    [theme=dark] .colab-df-convert {\n",
              "      background-color: #3B4455;\n",
              "      fill: #D2E3FC;\n",
              "    }\n",
              "\n",
              "    [theme=dark] .colab-df-convert:hover {\n",
              "      background-color: #434B5C;\n",
              "      box-shadow: 0px 1px 3px 1px rgba(0, 0, 0, 0.15);\n",
              "      filter: drop-shadow(0px 1px 2px rgba(0, 0, 0, 0.3));\n",
              "      fill: #FFFFFF;\n",
              "    }\n",
              "  </style>\n",
              "\n",
              "      <script>\n",
              "        const buttonEl =\n",
              "          document.querySelector('#df-a038a780-a6c1-4202-b611-4f49a508e487 button.colab-df-convert');\n",
              "        buttonEl.style.display =\n",
              "          google.colab.kernel.accessAllowed ? 'block' : 'none';\n",
              "\n",
              "        async function convertToInteractive(key) {\n",
              "          const element = document.querySelector('#df-a038a780-a6c1-4202-b611-4f49a508e487');\n",
              "          const dataTable =\n",
              "            await google.colab.kernel.invokeFunction('convertToInteractive',\n",
              "                                                     [key], {});\n",
              "          if (!dataTable) return;\n",
              "\n",
              "          const docLinkHtml = 'Like what you see? Visit the ' +\n",
              "            '<a target=\"_blank\" href=https://colab.research.google.com/notebooks/data_table.ipynb>data table notebook</a>'\n",
              "            + ' to learn more about interactive tables.';\n",
              "          element.innerHTML = '';\n",
              "          dataTable['output_type'] = 'display_data';\n",
              "          await google.colab.output.renderOutput(dataTable, element);\n",
              "          const docLink = document.createElement('div');\n",
              "          docLink.innerHTML = docLinkHtml;\n",
              "          element.appendChild(docLink);\n",
              "        }\n",
              "      </script>\n",
              "    </div>\n",
              "  </div>\n",
              "  "
            ]
          },
          "metadata": {},
          "execution_count": 17
        }
      ]
    },
    {
      "cell_type": "markdown",
      "source": [
        "# EDA"
      ],
      "metadata": {
        "id": "gkkouJh1PVv9"
      }
    },
    {
      "cell_type": "markdown",
      "source": [
        "##  OPEN VS LOW"
      ],
      "metadata": {
        "id": "7l3_Vmy-PVv-"
      }
    },
    {
      "cell_type": "markdown",
      "source": [
        "##  ploting data of low vs time"
      ],
      "metadata": {
        "id": "_sfv3NcvPVv-"
      }
    },
    {
      "cell_type": "markdown",
      "source": [
        "### **i.\tQUESTION1**"
      ],
      "metadata": {
        "id": "GwTu2E-yPVv_"
      }
    },
    {
      "cell_type": "markdown",
      "source": [
        "#### plot data for all periods to the low value of stock and study this graph in relation to change in the open value."
      ],
      "metadata": {
        "id": "hy3fIeR9PVwA"
      }
    },
    {
      "cell_type": "code",
      "source": [
        "plt.figure(figsize=(10,6))\n",
        "plt.plot(data['Date'],data['Low'])\n",
        "plt.show()"
      ],
      "metadata": {
        "execution": {
          "iopub.status.busy": "2022-07-02T19:30:50.284368Z",
          "iopub.execute_input": "2022-07-02T19:30:50.284696Z",
          "iopub.status.idle": "2022-07-02T19:31:14.805508Z",
          "shell.execute_reply.started": "2022-07-02T19:30:50.284638Z",
          "shell.execute_reply": "2022-07-02T19:31:14.804711Z"
        },
        "trusted": true,
        "id": "Qfq-iP-cPVwB",
        "colab": {
          "base_uri": "https://localhost:8080/",
          "height": 374
        },
        "outputId": "3ff50606-7431-45bf-a453-73137399f071"
      },
      "execution_count": 18,
      "outputs": [
        {
          "output_type": "display_data",
          "data": {
            "text/plain": [
              "<Figure size 720x432 with 1 Axes>"
            ],
            "image/png": "[encoded data removed]"
          },
          "metadata": {
            "needs_background": "light"
          }
        }
      ]
    },
    {
      "cell_type": "code",
      "source": [
        "plt.figure(figsize=(10,6))\n",
        "plt.plot(data['Date'],data['Open']-data['Low'])\n",
        "plt.show()"
      ],
      "metadata": {
        "execution": {
          "iopub.status.busy": "2022-07-02T19:35:17.434220Z",
          "iopub.execute_input": "2022-07-02T19:35:17.434528Z",
          "iopub.status.idle": "2022-07-02T19:35:41.994365Z",
          "shell.execute_reply.started": "2022-07-02T19:35:17.434470Z",
          "shell.execute_reply": "2022-07-02T19:35:41.993564Z"
        },
        "trusted": true,
        "id": "OsaxHEihPVwC",
        "colab": {
          "base_uri": "https://localhost:8080/",
          "height": 374
        },
        "outputId": "3c19f0e1-a70d-4c72-8563-7ae3b027694e"
      },
      "execution_count": 19,
      "outputs": [
        {
          "output_type": "display_data",
          "data": {
            "text/plain": [
              "<Figure size 720x432 with 1 Axes>"
            ],
            "image/png": "[encoded data removed]"
          },
          "metadata": {
            "needs_background": "light"
          }
        }
      ]
    },
    {
      "cell_type": "code",
      "source": [
        "diff_open_low=data['Open']-data['Low']\n",
        "diff_open_low.mean()"
      ],
      "metadata": {
        "execution": {
          "iopub.status.busy": "2022-07-02T19:36:59.190081Z",
          "iopub.execute_input": "2022-07-02T19:36:59.190519Z",
          "iopub.status.idle": "2022-07-02T19:36:59.199171Z",
          "shell.execute_reply.started": "2022-07-02T19:36:59.190471Z",
          "shell.execute_reply": "2022-07-02T19:36:59.197720Z"
        },
        "trusted": true,
        "id": "brEbozH8PVwD",
        "colab": {
          "base_uri": "https://localhost:8080/"
        },
        "outputId": "f35be0fb-421d-4627-c641-4da72c93b4aa"
      },
      "execution_count": 20,
      "outputs": [
        {
          "output_type": "execute_result",
          "data": {
            "text/plain": [
              "406.5130505709625"
            ]
          },
          "metadata": {},
          "execution_count": 20
        }
      ]
    },
    {
      "cell_type": "code",
      "source": [
        "diff_open_low.std()"
      ],
      "metadata": {
        "execution": {
          "iopub.status.busy": "2022-07-02T19:37:07.879062Z",
          "iopub.execute_input": "2022-07-02T19:37:07.879364Z",
          "iopub.status.idle": "2022-07-02T19:37:07.887384Z",
          "shell.execute_reply.started": "2022-07-02T19:37:07.879310Z",
          "shell.execute_reply": "2022-07-02T19:37:07.885794Z"
        },
        "trusted": true,
        "id": "gcYhKRuzPVwF",
        "colab": {
          "base_uri": "https://localhost:8080/"
        },
        "outputId": "8d723ae9-b99a-4650-9540-5eade0b2c704"
      },
      "execution_count": 21,
      "outputs": [
        {
          "output_type": "execute_result",
          "data": {
            "text/plain": [
              "461.7362249836985"
            ]
          },
          "metadata": {},
          "execution_count": 21
        }
      ]
    },
    {
      "cell_type": "markdown",
      "source": [
        "### **\tDescription about the distribution**"
      ],
      "metadata": {
        "id": "REyPclDxPVwG"
      }
    },
    {
      "cell_type": "markdown",
      "source": [
        "The above plot shows that:\n",
        "much difference could not be seen between high and low values except few data points in 2016 end and 2012 starting.\n",
        "1. mean is about :406.51\n",
        "2. standard deviation of: 461.73"
      ],
      "metadata": {
        "id": "6a_-2SktPVwH"
      }
    },
    {
      "cell_type": "markdown",
      "source": [
        "\n"
      ],
      "metadata": {
        "id": "p3VL16KRPVwI"
      }
    },
    {
      "cell_type": "markdown",
      "source": [
        "## PRICE CHANGE ."
      ],
      "metadata": {
        "id": "BgstN5rrPVwI"
      }
    },
    {
      "cell_type": "markdown",
      "source": [
        "### **i.\tQUESTION2**"
      ],
      "metadata": {
        "id": "mV-rZUZlPVwJ"
      }
    },
    {
      "cell_type": "markdown",
      "source": [
        "Analyze price change within a day using standard deviation."
      ],
      "metadata": {
        "id": "-gZCyptGPVwJ"
      }
    },
    {
      "cell_type": "code",
      "source": [
        "diff_open_close=data['Open']-data['Close']\n",
        "std_open_close=np.std(diff_open_close)\n",
        "std_open_close"
      ],
      "metadata": {
        "execution": {
          "iopub.status.busy": "2022-07-02T19:40:24.064479Z",
          "iopub.execute_input": "2022-07-02T19:40:24.064810Z",
          "iopub.status.idle": "2022-07-02T19:40:24.073716Z",
          "shell.execute_reply.started": "2022-07-02T19:40:24.064769Z",
          "shell.execute_reply": "2022-07-02T19:40:24.071562Z"
        },
        "trusted": true,
        "id": "-kS77E7CPVwK",
        "colab": {
          "base_uri": "https://localhost:8080/"
        },
        "outputId": "3e40af3b-52cb-42b7-b95a-1fdfd8aff075"
      },
      "execution_count": 26,
      "outputs": [
        {
          "output_type": "execute_result",
          "data": {
            "text/plain": [
              "638.6869253601416"
            ]
          },
          "metadata": {},
          "execution_count": 26
        }
      ]
    },
    {
      "cell_type": "markdown",
      "source": [
        "**price change=638.68**"
      ],
      "metadata": {
        "id": "SutwU17FPVwK"
      }
    },
    {
      "cell_type": "markdown",
      "source": [
        "## QUARTILE DATA ANALYSIS BY VOLUME ."
      ],
      "metadata": {
        "id": "auOf0H_3PVwL"
      }
    },
    {
      "cell_type": "markdown",
      "source": [
        "### **i.\tQUESTION3**"
      ],
      "metadata": {
        "id": "JjURYRlFPVwL"
      }
    },
    {
      "cell_type": "markdown",
      "source": [
        "**use a suitable plot to show the change in median of open,high ,low and close in each quartile as per volume.**"
      ],
      "metadata": {
        "id": "Dl0Il1FwPVwM"
      }
    },
    {
      "cell_type": "code",
      "source": [
        "quantile_data_volume=data['Volume'].quantile([0.00,0.25,0.50,0.75,1.0])\n",
        "quantile_data_volume"
      ],
      "metadata": {
        "execution": {
          "iopub.status.busy": "2022-07-02T19:43:14.790699Z",
          "iopub.execute_input": "2022-07-02T19:43:14.791108Z",
          "iopub.status.idle": "2022-07-02T19:43:14.804340Z",
          "shell.execute_reply.started": "2022-07-02T19:43:14.791046Z",
          "shell.execute_reply": "2022-07-02T19:43:14.802397Z"
        },
        "trusted": true,
        "id": "F6I8j8p-PVwN",
        "colab": {
          "base_uri": "https://localhost:8080/"
        },
        "outputId": "c0d80af6-4fb6-4d38-ea16-9491a377e6cf"
      },
      "execution_count": 23,
      "outputs": [
        {
          "output_type": "execute_result",
          "data": {
            "text/plain": [
              "0.00     139100.0\n",
              "0.25     487300.0\n",
              "0.50     626000.0\n",
              "0.75     826700.0\n",
              "1.00    4937300.0\n",
              "Name: Volume, dtype: float64"
            ]
          },
          "metadata": {},
          "execution_count": 23
        }
      ]
    },
    {
      "cell_type": "code",
      "source": [
        "data_q1=data.loc[(data['Volume']>139100)&(data['Volume']<=487300)]\n",
        "data_q2=data.loc[(data['Volume']>487300)&(data['Volume']<=626000)]\n",
        "data_q3=data.loc[(data['Volume']>626000)&(data['Volume']<=826700)]\n",
        "data_q4=data.loc[(data['Volume']>826700)&(data['Volume']<=4937300)]"
      ],
      "metadata": {
        "execution": {
          "iopub.status.busy": "2022-07-02T19:48:55.669158Z",
          "iopub.execute_input": "2022-07-02T19:48:55.669463Z",
          "iopub.status.idle": "2022-07-02T19:48:55.684079Z",
          "shell.execute_reply.started": "2022-07-02T19:48:55.669408Z",
          "shell.execute_reply": "2022-07-02T19:48:55.683353Z"
        },
        "trusted": true,
        "id": "J96V2aFYPVwO"
      },
      "execution_count": 24,
      "outputs": []
    },
    {
      "cell_type": "code",
      "source": [
        "plt.figure(figsize=(10,6))\n",
        "plt.plot(data_q1.median()[0:4],'red')\n",
        "plt.plot(data_q2.median()[0:4],'blue')\n",
        "plt.plot(data_q3.median()[0:4],'green')\n",
        "plt.plot(data_q4.median()[0:4],'yellow')\n",
        "plt.show()\n"
      ],
      "metadata": {
        "execution": {
          "iopub.status.busy": "2022-07-02T19:49:30.799293Z",
          "iopub.execute_input": "2022-07-02T19:49:30.799590Z",
          "iopub.status.idle": "2022-07-02T19:49:31.011707Z",
          "shell.execute_reply.started": "2022-07-02T19:49:30.799520Z",
          "shell.execute_reply": "2022-07-02T19:49:31.011081Z"
        },
        "trusted": true,
        "id": "lUP5t7VTPVwR",
        "colab": {
          "base_uri": "https://localhost:8080/",
          "height": 374
        },
        "outputId": "92133fe2-a663-4bd1-e3ee-083ead6c3b4e"
      },
      "execution_count": 25,
      "outputs": [
        {
          "output_type": "display_data",
          "data": {
            "text/plain": [
              "<Figure size 720x432 with 1 Axes>"
            ],
            "image/png": "[encoded data removed]"
          },
          "metadata": {
            "needs_background": "light"
          }
        }
      ]
    },
    {
      "cell_type": "markdown",
      "source": [
        "### **ii.\tDescription about the distribution**"
      ],
      "metadata": {
        "id": "_0iDmfxiPVwS"
      }
    },
    {
      "cell_type": "markdown",
      "source": [
        "the data has been divided into four quartile:\n",
        "**red:Q1\n",
        "**blue:Q2\n",
        "**green:Q3\n",
        "**Yellow:Q4"
      ],
      "metadata": {
        "id": "ElvNEG3wPVwT"
      }
    },
    {
      "cell_type": "markdown",
      "source": [
        "## MEAN VOLUME VS ORIGINAL VOLUME"
      ],
      "metadata": {
        "id": "k5lnjfNmPVwU"
      }
    },
    {
      "cell_type": "markdown",
      "source": [
        "### **i.\tQUESTION4**"
      ],
      "metadata": {
        "id": "7xFQrYejPVwU"
      }
    },
    {
      "cell_type": "markdown",
      "source": [
        "### **i.\tgiven that difference between high and low is below averageand of open and close is below average, fing mean volume and compare it to original volume**"
      ],
      "metadata": {
        "id": "wBX7airEPVwV"
      }
    },
    {
      "cell_type": "code",
      "source": [
        "diff_high_low=data['High']-data['Low']\n",
        "diff_open_close=data['Open']-data['Close']\n",
        "mean_hl=diff_high_low.mean()\n",
        "mean_oc=diff_open_close.mean()"
      ],
      "metadata": {
        "id": "MRTOpmqPPVwX"
      },
      "execution_count": 27,
      "outputs": []
    },
    {
      "cell_type": "code",
      "source": [
        "data_volume=data.loc[(diff_high_low<mean_hl)&(diff_open_close<mean_oc)]\n",
        "data_volume_mean=data_volume['Volume'].mean()\n",
        "diff_orig_mean=data_volume['Volume']-data_volume_mean\n",
        "std_volume=np.std(diff_orig_mean)\n",
        "std_volume"
      ],
      "metadata": {
        "execution": {
          "iopub.status.busy": "2022-07-02T20:05:03.449940Z",
          "iopub.execute_input": "2022-07-02T20:05:03.450521Z",
          "iopub.status.idle": "2022-07-02T20:05:03.460995Z",
          "shell.execute_reply.started": "2022-07-02T20:05:03.450450Z",
          "shell.execute_reply": "2022-07-02T20:05:03.459992Z"
        },
        "trusted": true,
        "id": "mpN61YtrPVwX",
        "colab": {
          "base_uri": "https://localhost:8080/"
        },
        "outputId": "aed67713-f537-4021-a0a7-4b848e922cd0"
      },
      "execution_count": 28,
      "outputs": [
        {
          "output_type": "execute_result",
          "data": {
            "text/plain": [
              "306266.4939701633"
            ]
          },
          "metadata": {},
          "execution_count": 28
        }
      ]
    },
    {
      "cell_type": "code",
      "source": [
        "plt.figure(figsize=(10,6))\n",
        "plt.plot(data_volume['Date'],diff_orig_mean)\n",
        "plt.show()"
      ],
      "metadata": {
        "execution": {
          "iopub.status.busy": "2022-07-02T20:04:12.580313Z",
          "iopub.execute_input": "2022-07-02T20:04:12.580920Z",
          "iopub.status.idle": "2022-07-02T20:04:18.479191Z",
          "shell.execute_reply.started": "2022-07-02T20:04:12.580846Z",
          "shell.execute_reply": "2022-07-02T20:04:18.477917Z"
        },
        "trusted": true,
        "id": "eOARYLoVPVwY",
        "colab": {
          "base_uri": "https://localhost:8080/",
          "height": 385
        },
        "outputId": "a8b3d42a-a4b0-4f5e-b366-deb9f25d3a0c"
      },
      "execution_count": 29,
      "outputs": [
        {
          "output_type": "display_data",
          "data": {
            "text/plain": [
              "<Figure size 720x432 with 1 Axes>"
            ],
            "image/png": "[encoded data removed]"
          },
          "metadata": {
            "needs_background": "light"
          }
        }
      ]
    },
    {
      "cell_type": "markdown",
      "source": [
        "### **ii.\tDescription about distribution**"
      ],
      "metadata": {
        "id": "BrW55zVzPVwa"
      }
    },
    {
      "cell_type": "markdown",
      "source": [
        "the plot of difference in original volume and mean when other quantities are below average.\n",
        "the graph shows how much variation dose the data go."
      ],
      "metadata": {
        "id": "oGMSgRV9PVwa"
      }
    },
    {
      "cell_type": "markdown",
      "source": [
        "## STOCK TRADING"
      ],
      "metadata": {
        "id": "v7E7ESUzPVwb"
      }
    },
    {
      "cell_type": "markdown",
      "source": [
        "### **i.\tQUESTION5**"
      ],
      "metadata": {
        "id": "aidFF-2UPVwc"
      }
    },
    {
      "cell_type": "markdown",
      "source": [
        "### **i.\tDistribution OPEN VS CLOSE**"
      ],
      "metadata": {
        "id": "79_2EedaPVwc"
      }
    },
    {
      "cell_type": "code",
      "source": [
        "plt.figure(figsize=(10,6))\n",
        "plt.plot(data['Date'],data['Open'],'red')\n",
        "plt.plot(data['Date'],data['Close'])\n",
        "plt.show()"
      ],
      "metadata": {
        "execution": {
          "iopub.status.busy": "2022-07-02T20:13:39.857573Z",
          "iopub.execute_input": "2022-07-02T20:13:39.857921Z",
          "iopub.status.idle": "2022-07-02T20:14:04.690398Z",
          "shell.execute_reply.started": "2022-07-02T20:13:39.857870Z",
          "shell.execute_reply": "2022-07-02T20:14:04.689731Z"
        },
        "trusted": true,
        "id": "gUX2sg1dPVwc",
        "colab": {
          "base_uri": "https://localhost:8080/",
          "height": 374
        },
        "outputId": "475fb02e-5783-42d0-b742-35501314305d"
      },
      "execution_count": 30,
      "outputs": [
        {
          "output_type": "display_data",
          "data": {
            "text/plain": [
              "<Figure size 720x432 with 1 Axes>"
            ],
            "image/png": "[encoded data removed]"
          },
          "metadata": {
            "needs_background": "light"
          }
        }
      ]
    },
    {
      "cell_type": "code",
      "source": [
        "diff_open_close=data['Open']-data['Close']\n",
        "mean_oc=diff_open_close.mean()\n",
        "mean_oc"
      ],
      "metadata": {
        "execution": {
          "iopub.status.busy": "2022-07-02T20:15:13.492317Z",
          "iopub.execute_input": "2022-07-02T20:15:13.493038Z",
          "iopub.status.idle": "2022-07-02T20:15:13.501113Z",
          "shell.execute_reply.started": "2022-07-02T20:15:13.492966Z",
          "shell.execute_reply": "2022-07-02T20:15:13.500376Z"
        },
        "trusted": true,
        "id": "NAzlpx0_PVwd",
        "colab": {
          "base_uri": "https://localhost:8080/"
        },
        "outputId": "003e7f23-d724-4080-d74e-65222969ce77"
      },
      "execution_count": 31,
      "outputs": [
        {
          "output_type": "execute_result",
          "data": {
            "text/plain": [
              "-6.166394779771615"
            ]
          },
          "metadata": {},
          "execution_count": 31
        }
      ]
    },
    {
      "cell_type": "markdown",
      "source": [
        "**STOCK TRADING VS TIME**"
      ],
      "metadata": {
        "id": "EcnTIdZQPVwe"
      }
    },
    {
      "cell_type": "code",
      "source": [
        "plt.figure(figsize=(10,6))\n",
        "plt.plot(data['Date'],data['Stock Trading'],'red')\n",
        "plt.show()"
      ],
      "metadata": {
        "execution": {
          "iopub.status.busy": "2022-07-02T20:15:42.932377Z",
          "iopub.execute_input": "2022-07-02T20:15:42.933083Z",
          "iopub.status.idle": "2022-07-02T20:16:07.087178Z",
          "shell.execute_reply.started": "2022-07-02T20:15:42.933023Z",
          "shell.execute_reply": "2022-07-02T20:16:07.086255Z"
        },
        "trusted": true,
        "id": "0nog0dWcPVwe",
        "colab": {
          "base_uri": "https://localhost:8080/",
          "height": 385
        },
        "outputId": "4013f2de-49bb-4890-96d7-742d7d1369b5"
      },
      "execution_count": 32,
      "outputs": [
        {
          "output_type": "display_data",
          "data": {
            "text/plain": [
              "<Figure size 720x432 with 1 Axes>"
            ],
            "image/png": "[encoded data removed]"
          },
          "metadata": {
            "needs_background": "light"
          }
        }
      ]
    },
    {
      "cell_type": "markdown",
      "source": [
        "### **ii.\tDescription about distribution**"
      ],
      "metadata": {
        "id": "tvgEmt4VPVwf"
      }
    },
    {
      "cell_type": "markdown",
      "source": [
        "\n",
        "** this plot shows stock trading vs time.\n",
        "\n",
        "some days lies far above other day arounds. \n",
        "It could be clearly sean by sharp pearks ."
      ],
      "metadata": {
        "id": "YPhpn6e2PVwg"
      }
    },
    {
      "cell_type": "markdown",
      "source": [
        "## PERCENTAGE CHANGE IN MEDIAN"
      ],
      "metadata": {
        "id": "-DexskDrPVwg"
      }
    },
    {
      "cell_type": "markdown",
      "source": [
        "### **i.\tQUESTION6**"
      ],
      "metadata": {
        "id": "0RFKyBagPVwg"
      }
    },
    {
      "cell_type": "markdown",
      "source": [
        "### **Find the percentage change in the median of stock trading if difference between high and low is below average and of open and close is above average**"
      ],
      "metadata": {
        "id": "g2AIdXyaPVwh"
      }
    },
    {
      "cell_type": "code",
      "source": [
        "data_stock=data.loc[(diff_high_low<mean_hl)&(diff_open_close>mean_oc)]\n"
      ],
      "metadata": {
        "execution": {
          "iopub.status.busy": "2022-07-02T20:22:36.376784Z",
          "iopub.execute_input": "2022-07-02T20:22:36.377272Z",
          "iopub.status.idle": "2022-07-02T20:22:36.385698Z",
          "shell.execute_reply.started": "2022-07-02T20:22:36.377198Z",
          "shell.execute_reply": "2022-07-02T20:22:36.384269Z"
        },
        "trusted": true,
        "id": "eKcJOwh5PVwi"
      },
      "execution_count": 33,
      "outputs": []
    },
    {
      "cell_type": "code",
      "source": [
        "st_whole_median=data['Stock Trading'].median()\n",
        "st_condi_median=data_stock['Stock Trading'].median()\n",
        "percentage_change=((st_whole_median-st_condi_median)/st_whole_median)*100\n",
        "percentage_change"
      ],
      "metadata": {
        "execution": {
          "iopub.status.busy": "2022-07-02T20:22:44.792627Z",
          "iopub.execute_input": "2022-07-02T20:22:44.792931Z",
          "iopub.status.idle": "2022-07-02T20:22:44.800315Z",
          "shell.execute_reply.started": "2022-07-02T20:22:44.792880Z",
          "shell.execute_reply": "2022-07-02T20:22:44.799667Z"
        },
        "trusted": true,
        "id": "46lAqPkfPVwi",
        "colab": {
          "base_uri": "https://localhost:8080/"
        },
        "outputId": "b5fce6cb-f7d8-4477-c565-55afba95f084"
      },
      "execution_count": 34,
      "outputs": [
        {
          "output_type": "execute_result",
          "data": {
            "text/plain": [
              "25.284182285526878"
            ]
          },
          "metadata": {},
          "execution_count": 34
        }
      ]
    },
    {
      "cell_type": "markdown",
      "source": [
        "### **ii.\tthe percentage change:25.28%**"
      ],
      "metadata": {
        "id": "3j4KzIubPVwj"
      }
    },
    {
      "cell_type": "markdown",
      "source": [
        "\n"
      ],
      "metadata": {
        "id": "oqsMWJcrPVwj"
      }
    }
  ]
}